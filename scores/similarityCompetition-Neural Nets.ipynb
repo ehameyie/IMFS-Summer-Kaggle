{
 "cells": [
  {
   "cell_type": "code",
   "execution_count": 1,
   "metadata": {},
   "outputs": [
    {
     "name": "stderr",
     "output_type": "stream",
     "text": [
      "/Users/atru/anaconda/lib/python3.6/site-packages/h5py/__init__.py:34: FutureWarning: Conversion of the second argument of issubdtype from `float` to `np.floating` is deprecated. In future, it will be treated as `np.float64 == np.dtype(float).type`.\n",
      "  from ._conv import register_converters as _register_converters\n",
      "Using TensorFlow backend.\n"
     ]
    }
   ],
   "source": [
    "import pandas as pd\n",
    "import numpy as np\n",
    "\n",
    "\n",
    "from sklearn.feature_extraction.text import CountVectorizer, TfidfVectorizer\n",
    "\n",
    "from sklearn.model_selection import train_test_split, GridSearchCV\n",
    "from sklearn.linear_model import LogisticRegressionCV\n",
    "\n",
    "from scipy.sparse import coo_matrix, hstack\n",
    "\n",
    "from keras.models import Sequential\n",
    "from keras.layers import Dense, Activation\n",
    "from keras.layers import Dropout\n",
    "\n",
    "import warnings\n",
    "warnings.filterwarnings('ignore')"
   ]
  },
  {
   "cell_type": "markdown",
   "metadata": {},
   "source": [
    "Pre-processing"
   ]
  },
  {
   "cell_type": "code",
   "execution_count": 2,
   "metadata": {
    "collapsed": true
   },
   "outputs": [],
   "source": [
    "train = pd.read_csv('/Users/atru/Desktop/kaggle/dataset/Phase 1 - similarityCompetition/train.csv')\n",
    "test = pd.read_csv('/Users/atru/Desktop/kaggle/dataset/Phase 1 - similarityCompetition/test.csv')"
   ]
  },
  {
   "cell_type": "code",
   "execution_count": 3,
   "metadata": {
    "collapsed": true
   },
   "outputs": [],
   "source": [
    "bank = pd.read_csv('/Users/atru/Desktop/kaggle/wordbank.csv')\n",
    "mapping = pd.melt(bank, id_vars=['Root word'])"
   ]
  },
  {
   "cell_type": "code",
   "execution_count": 4,
   "metadata": {
    "collapsed": true,
    "scrolled": true
   },
   "outputs": [],
   "source": [
    "mapping = mapping.dropna()\n",
    "mapping = mapping[['Root word', 'value']]"
   ]
  },
  {
   "cell_type": "code",
   "execution_count": 5,
   "metadata": {
    "collapsed": true
   },
   "outputs": [],
   "source": [
    "map_dict = mapping.set_index('value').to_dict()\n",
    "map_dict = map_dict['Root word']\n",
    "map_dict = {k.lower(): v for k, v in map_dict.items()}"
   ]
  },
  {
   "cell_type": "code",
   "execution_count": 6,
   "metadata": {
    "collapsed": true
   },
   "outputs": [],
   "source": [
    "# >1 char dict:\n",
    "multiple_char_dict = {k:v for (k,v) in map_dict.items() if ' ' in k}"
   ]
  },
  {
   "cell_type": "code",
   "execution_count": 7,
   "metadata": {
    "scrolled": false
   },
   "outputs": [
    {
     "data": {
      "text/plain": [
       "{'ampco pittsburgh': 'ampcopittsburgh',\n",
       " 'bp plc': 'bpplc',\n",
       " 'mid cap': 'mid-cap',\n",
       " 'short term': 'Short-term',\n",
       " 'sm cap': 'small-cap',\n",
       " 'small cap': 'small-cap',\n",
       " 't. rowe price': 't rowe price',\n",
       " 'tax exempt': 'tax-exempt'}"
      ]
     },
     "execution_count": 7,
     "metadata": {},
     "output_type": "execute_result"
    }
   ],
   "source": [
    "multiple_char_dict"
   ]
  },
  {
   "cell_type": "code",
   "execution_count": 9,
   "metadata": {
    "collapsed": true,
    "scrolled": true
   },
   "outputs": [],
   "source": [
    "X = train[['description_x', 'description_y']]\n",
    "y = train[['same_security']]\n",
    "\n",
    "for i in range(0, len(X)):\n",
    "    for word in X['description_x'][i].split(' '):\n",
    "        if word.lower() in map_dict:\n",
    "            X['description_x'][i] = X['description_x'][i].replace(word, map_dict[word])\n",
    "\n",
    "for i in range(0, len(X)):\n",
    "    for word in X['description_y'][i].split(' '):\n",
    "        if word.lower() in map_dict:\n",
    "            X['description_y'][i] = X['description_y'][i].replace(word, map_dict[word])\n",
    "\n",
    "# replace multiple words\n",
    "\n",
    "for i in range(0, len(X)):\n",
    "    #print(i)\n",
    "    for (k,v) in multiple_char_dict.items():\n",
    "        if k in X['description_x'][i]:\n",
    "            #print(k)\n",
    "            X['description_x'][i] = X['description_x'][i].replace(k, multiple_char_dict[k])\n",
    "        if k in X['description_y'][i]:\n",
    "            #print(k)\n",
    "            X['description_x'][i] = X['description_y'][i].replace(k, multiple_char_dict[k])"
   ]
  },
  {
   "cell_type": "code",
   "execution_count": 11,
   "metadata": {},
   "outputs": [],
   "source": [
    "X[\"description_x\"] = X['description_x'].str.replace('[^\\w\\s]','')\n",
    "X[\"description_y\"] = X['description_y'].str.replace('[^\\w\\s]','')\n",
    "\n",
    "X[\"description_x\"] = X[\"description_x\"].str.lower()\n",
    "X[\"description_y\"] = X[\"description_y\"].str.lower()"
   ]
  },
  {
   "cell_type": "code",
   "execution_count": 12,
   "metadata": {
    "collapsed": true
   },
   "outputs": [],
   "source": [
    "y = y.applymap(lambda x: 1 if x == True else x)\n",
    "y = y.applymap(lambda x: 0 if x == False else x)"
   ]
  },
  {
   "cell_type": "code",
   "execution_count": 13,
   "metadata": {
    "collapsed": true
   },
   "outputs": [],
   "source": [
    "vec_X = TfidfVectorizer(encoding='utf-8')\n",
    "X_X = vec_X.fit_transform(X['description_x'].values.astype('U'))\n",
    "\n",
    "\n",
    "vec_Y = TfidfVectorizer(encoding='utf-8')\n",
    "X_Y = vec_X.fit_transform(X['description_y'].values.astype('U'))\n",
    "\n",
    "\n",
    "X_concat = hstack([X_X, X_Y])\n",
    "\n",
    "X_train_all = X_concat.tocsr()"
   ]
  },
  {
   "cell_type": "code",
   "execution_count": 14,
   "metadata": {},
   "outputs": [
    {
     "data": {
      "text/plain": [
       "(2142, 2857)"
      ]
     },
     "execution_count": 14,
     "metadata": {},
     "output_type": "execute_result"
    }
   ],
   "source": [
    "X_train_all.shape"
   ]
  },
  {
   "cell_type": "code",
   "execution_count": 15,
   "metadata": {
    "collapsed": true
   },
   "outputs": [],
   "source": [
    "X_train, X_val, y_train, y_val = train_test_split(X_train_all, y, random_state=1)"
   ]
  },
  {
   "cell_type": "markdown",
   "metadata": {},
   "source": [
    "Neural Networks"
   ]
  },
  {
   "cell_type": "code",
   "execution_count": 287,
   "metadata": {
    "collapsed": true
   },
   "outputs": [],
   "source": [
    "model_dropout = Sequential([\n",
    "    Dense(1024, input_shape=(2857,), activation='relu'),\n",
    "    Dropout(.5),\n",
    "    Dense(1024, activation='relu'),\n",
    "    Dropout(.5),\n",
    "    Dense(1024, activation='relu'),\n",
    "    Dropout(.5),\n",
    "    Dense(1, activation='sigmoid'),\n",
    "])"
   ]
  },
  {
   "cell_type": "code",
   "execution_count": 288,
   "metadata": {
    "scrolled": false
   },
   "outputs": [
    {
     "ename": "ValueError",
     "evalue": "Error when checking input: expected dense_243_input to have shape (2857,) but got array with shape (2823,)",
     "output_type": "error",
     "traceback": [
      "\u001b[0;31m---------------------------------------------------------------------------\u001b[0m",
      "\u001b[0;31mValueError\u001b[0m                                Traceback (most recent call last)",
      "\u001b[0;32m<ipython-input-288-1ecb10fe0c8d>\u001b[0m in \u001b[0;36m<module>\u001b[0;34m()\u001b[0m\n\u001b[1;32m      1\u001b[0m \u001b[0mmodel_dropout\u001b[0m\u001b[0;34m.\u001b[0m\u001b[0mcompile\u001b[0m\u001b[0;34m(\u001b[0m\u001b[0;34m\"adam\"\u001b[0m\u001b[0;34m,\u001b[0m \u001b[0;34m\"binary_crossentropy\"\u001b[0m\u001b[0;34m,\u001b[0m \u001b[0mmetrics\u001b[0m\u001b[0;34m=\u001b[0m\u001b[0;34m[\u001b[0m\u001b[0;34m'accuracy'\u001b[0m\u001b[0;34m]\u001b[0m\u001b[0;34m)\u001b[0m\u001b[0;34m\u001b[0m\u001b[0m\n\u001b[0;32m----> 2\u001b[0;31m \u001b[0mhistory_dropout\u001b[0m \u001b[0;34m=\u001b[0m \u001b[0mmodel_dropout\u001b[0m\u001b[0;34m.\u001b[0m\u001b[0mfit\u001b[0m\u001b[0;34m(\u001b[0m\u001b[0mX_train\u001b[0m\u001b[0;34m,\u001b[0m \u001b[0my_train\u001b[0m\u001b[0;34m,\u001b[0m \u001b[0mbatch_size\u001b[0m\u001b[0;34m=\u001b[0m\u001b[0;36m128\u001b[0m\u001b[0;34m,\u001b[0m \u001b[0mepochs\u001b[0m\u001b[0;34m=\u001b[0m\u001b[0;36m20\u001b[0m\u001b[0;34m,\u001b[0m \u001b[0mverbose\u001b[0m\u001b[0;34m=\u001b[0m\u001b[0;36m0\u001b[0m\u001b[0;34m,\u001b[0m \u001b[0mvalidation_split\u001b[0m\u001b[0;34m=\u001b[0m\u001b[0;36m.2\u001b[0m\u001b[0;34m)\u001b[0m\u001b[0;34m\u001b[0m\u001b[0m\n\u001b[0m\u001b[1;32m      3\u001b[0m \u001b[0;34m\u001b[0m\u001b[0m\n\u001b[1;32m      4\u001b[0m \u001b[0mscore\u001b[0m \u001b[0;34m=\u001b[0m \u001b[0mmodel_dropout\u001b[0m\u001b[0;34m.\u001b[0m\u001b[0mevaluate\u001b[0m\u001b[0;34m(\u001b[0m\u001b[0mX_val\u001b[0m\u001b[0;34m,\u001b[0m \u001b[0my_val\u001b[0m\u001b[0;34m,\u001b[0m \u001b[0mverbose\u001b[0m\u001b[0;34m=\u001b[0m\u001b[0;36m0\u001b[0m\u001b[0;34m)\u001b[0m\u001b[0;34m\u001b[0m\u001b[0m\n\u001b[1;32m      5\u001b[0m \u001b[0mprint\u001b[0m\u001b[0;34m(\u001b[0m\u001b[0;34m\"Test loss: {:.3f}\"\u001b[0m\u001b[0;34m.\u001b[0m\u001b[0mformat\u001b[0m\u001b[0;34m(\u001b[0m\u001b[0mscore\u001b[0m\u001b[0;34m[\u001b[0m\u001b[0;36m0\u001b[0m\u001b[0;34m]\u001b[0m\u001b[0;34m)\u001b[0m\u001b[0;34m)\u001b[0m\u001b[0;34m\u001b[0m\u001b[0m\n",
      "\u001b[0;32m/Users/atru/anaconda/lib/python3.6/site-packages/keras/engine/training.py\u001b[0m in \u001b[0;36mfit\u001b[0;34m(self, x, y, batch_size, epochs, verbose, callbacks, validation_split, validation_data, shuffle, class_weight, sample_weight, initial_epoch, steps_per_epoch, validation_steps, **kwargs)\u001b[0m\n\u001b[1;32m    953\u001b[0m             \u001b[0msample_weight\u001b[0m\u001b[0;34m=\u001b[0m\u001b[0msample_weight\u001b[0m\u001b[0;34m,\u001b[0m\u001b[0;34m\u001b[0m\u001b[0m\n\u001b[1;32m    954\u001b[0m             \u001b[0mclass_weight\u001b[0m\u001b[0;34m=\u001b[0m\u001b[0mclass_weight\u001b[0m\u001b[0;34m,\u001b[0m\u001b[0;34m\u001b[0m\u001b[0m\n\u001b[0;32m--> 955\u001b[0;31m             batch_size=batch_size)\n\u001b[0m\u001b[1;32m    956\u001b[0m         \u001b[0;31m# Prepare validation data.\u001b[0m\u001b[0;34m\u001b[0m\u001b[0;34m\u001b[0m\u001b[0m\n\u001b[1;32m    957\u001b[0m         \u001b[0mdo_validation\u001b[0m \u001b[0;34m=\u001b[0m \u001b[0;32mFalse\u001b[0m\u001b[0;34m\u001b[0m\u001b[0m\n",
      "\u001b[0;32m/Users/atru/anaconda/lib/python3.6/site-packages/keras/engine/training.py\u001b[0m in \u001b[0;36m_standardize_user_data\u001b[0;34m(self, x, y, sample_weight, class_weight, check_array_lengths, batch_size)\u001b[0m\n\u001b[1;32m    752\u001b[0m             \u001b[0mfeed_input_shapes\u001b[0m\u001b[0;34m,\u001b[0m\u001b[0;34m\u001b[0m\u001b[0m\n\u001b[1;32m    753\u001b[0m             \u001b[0mcheck_batch_axis\u001b[0m\u001b[0;34m=\u001b[0m\u001b[0;32mFalse\u001b[0m\u001b[0;34m,\u001b[0m  \u001b[0;31m# Don't enforce the batch size.\u001b[0m\u001b[0;34m\u001b[0m\u001b[0m\n\u001b[0;32m--> 754\u001b[0;31m             exception_prefix='input')\n\u001b[0m\u001b[1;32m    755\u001b[0m \u001b[0;34m\u001b[0m\u001b[0m\n\u001b[1;32m    756\u001b[0m         \u001b[0;32mif\u001b[0m \u001b[0my\u001b[0m \u001b[0;32mis\u001b[0m \u001b[0;32mnot\u001b[0m \u001b[0;32mNone\u001b[0m\u001b[0;34m:\u001b[0m\u001b[0;34m\u001b[0m\u001b[0m\n",
      "\u001b[0;32m/Users/atru/anaconda/lib/python3.6/site-packages/keras/engine/training_utils.py\u001b[0m in \u001b[0;36mstandardize_input_data\u001b[0;34m(data, names, shapes, check_batch_axis, exception_prefix)\u001b[0m\n\u001b[1;32m    134\u001b[0m                             \u001b[0;34m': expected '\u001b[0m \u001b[0;34m+\u001b[0m \u001b[0mnames\u001b[0m\u001b[0;34m[\u001b[0m\u001b[0mi\u001b[0m\u001b[0;34m]\u001b[0m \u001b[0;34m+\u001b[0m \u001b[0;34m' to have shape '\u001b[0m \u001b[0;34m+\u001b[0m\u001b[0;34m\u001b[0m\u001b[0m\n\u001b[1;32m    135\u001b[0m                             \u001b[0mstr\u001b[0m\u001b[0;34m(\u001b[0m\u001b[0mshape\u001b[0m\u001b[0;34m)\u001b[0m \u001b[0;34m+\u001b[0m \u001b[0;34m' but got array with shape '\u001b[0m \u001b[0;34m+\u001b[0m\u001b[0;34m\u001b[0m\u001b[0m\n\u001b[0;32m--> 136\u001b[0;31m                             str(data_shape))\n\u001b[0m\u001b[1;32m    137\u001b[0m     \u001b[0;32mreturn\u001b[0m \u001b[0mdata\u001b[0m\u001b[0;34m\u001b[0m\u001b[0m\n\u001b[1;32m    138\u001b[0m \u001b[0;34m\u001b[0m\u001b[0m\n",
      "\u001b[0;31mValueError\u001b[0m: Error when checking input: expected dense_243_input to have shape (2857,) but got array with shape (2823,)"
     ]
    }
   ],
   "source": [
    "model_dropout.compile(\"adam\", \"binary_crossentropy\", metrics=['accuracy'])\n",
    "history_dropout = model_dropout.fit(X_train, y_train, batch_size=128, epochs=20, verbose=0, validation_split=.2)\n",
    "\n",
    "score = model_dropout.evaluate(X_val, y_val, verbose=0)\n",
    "print(\"Test loss: {:.3f}\".format(score[0]))\n",
    "print(\"Test Accuracy: {:.3f}\".format(score[1]))\n",
    "\n",
    "# This is for without removing duplicate words"
   ]
  },
  {
   "cell_type": "markdown",
   "metadata": {},
   "source": [
    "NLP"
   ]
  },
  {
   "cell_type": "code",
   "execution_count": 259,
   "metadata": {
    "collapsed": true,
    "scrolled": true
   },
   "outputs": [],
   "source": [
    "# removing duplicate words\n",
    "    \n",
    "for k in range(0, len(X)):\n",
    "    text1 = X['description_x'][k]\n",
    "    text2 = X['description_y'][k]\n",
    "    list1 = text1.split(' ')\n",
    "    list2 = text2.split(' ')\n",
    "    remove_word = []\n",
    "    for i in range(0, len(list1)):\n",
    "        if list1[i] in list2:\n",
    "            remove_word.append(list1[i])\n",
    "    remove_word = list(set(remove_word))\n",
    "    if len(remove_word) > 0:\n",
    "        for j in range(0, len(remove_word)):    \n",
    "            list1.remove(remove_word[j])\n",
    "            list2.remove(remove_word[j])\n",
    "\n",
    "        list1=\" \".join(list1)\n",
    "        list2=\" \".join(list2)\n",
    "        X['description_x'][k] = list1\n",
    "        X['description_y'][k] = list2 "
   ]
  },
  {
   "cell_type": "code",
   "execution_count": 260,
   "metadata": {},
   "outputs": [
    {
     "data": {
      "text/plain": [
       "0.8955223880597015"
      ]
     },
     "execution_count": 260,
     "metadata": {},
     "output_type": "execute_result"
    }
   ],
   "source": [
    "# tfid\n",
    "vec_X = TfidfVectorizer(encoding='utf-8')\n",
    "X_X = vec_X.fit_transform(X['description_x'].values.astype('U'))\n",
    "\n",
    "\n",
    "vec_Y = TfidfVectorizer(encoding='utf-8')\n",
    "X_Y = vec_Y.fit_transform(X['description_y'].values.astype('U'))\n",
    "\n",
    "\n",
    "X_concat = hstack([X_X, X_Y])\n",
    "\n",
    "X_train_all = X_concat.tocsr()\n",
    "X_train, X_val, y_train, y_val = train_test_split(X_train_all, y, random_state=0)\n",
    "\n",
    "lr = LogisticRegressionCV().fit(X_train, y_train)\n",
    "lr.score(X_val, y_test)\n",
    "\n",
    "#with moving dup words: .899"
   ]
  },
  {
   "cell_type": "code",
   "execution_count": 263,
   "metadata": {},
   "outputs": [
    {
     "name": "stdout",
     "output_type": "stream",
     "text": [
      "Train on 1445 samples, validate on 161 samples\n",
      "Epoch 1/20\n",
      "1445/1445 [==============================] - 4s 3ms/step - loss: 0.5718 - acc: 0.7329 - val_loss: 0.5145 - val_acc: 0.7205\n",
      "Epoch 2/20\n",
      "1445/1445 [==============================] - 1s 707us/step - loss: 0.4162 - acc: 0.7799 - val_loss: 0.4022 - val_acc: 0.8261\n",
      "Epoch 3/20\n",
      "1445/1445 [==============================] - 1s 703us/step - loss: 0.2452 - acc: 0.8900 - val_loss: 0.4412 - val_acc: 0.8696\n",
      "Epoch 4/20\n",
      "1445/1445 [==============================] - 1s 708us/step - loss: 0.1778 - acc: 0.9253 - val_loss: 0.3826 - val_acc: 0.8696\n",
      "Epoch 5/20\n",
      "1445/1445 [==============================] - 1s 636us/step - loss: 0.1362 - acc: 0.9384 - val_loss: 0.3729 - val_acc: 0.8758\n",
      "Epoch 6/20\n",
      "1445/1445 [==============================] - 1s 659us/step - loss: 0.1153 - acc: 0.9495 - val_loss: 0.4961 - val_acc: 0.8758\n",
      "Epoch 7/20\n",
      "1445/1445 [==============================] - 1s 715us/step - loss: 0.0998 - acc: 0.9543 - val_loss: 0.4811 - val_acc: 0.8696\n",
      "Epoch 8/20\n",
      "1445/1445 [==============================] - 1s 723us/step - loss: 0.0828 - acc: 0.9619 - val_loss: 0.4560 - val_acc: 0.8758\n",
      "Epoch 9/20\n",
      "1445/1445 [==============================] - 1s 727us/step - loss: 0.0804 - acc: 0.9668 - val_loss: 0.4161 - val_acc: 0.8882\n",
      "Epoch 10/20\n",
      "1445/1445 [==============================] - 1s 732us/step - loss: 0.0823 - acc: 0.9626 - val_loss: 0.4534 - val_acc: 0.8944\n",
      "Epoch 11/20\n",
      "1445/1445 [==============================] - 1s 735us/step - loss: 0.0707 - acc: 0.9668 - val_loss: 0.5281 - val_acc: 0.8820\n",
      "Epoch 12/20\n",
      "1445/1445 [==============================] - 1s 728us/step - loss: 0.0683 - acc: 0.9689 - val_loss: 0.5276 - val_acc: 0.8882\n",
      "Epoch 13/20\n",
      "1445/1445 [==============================] - 1s 722us/step - loss: 0.0639 - acc: 0.9716 - val_loss: 0.5206 - val_acc: 0.8882\n",
      "Epoch 14/20\n",
      "1445/1445 [==============================] - 1s 722us/step - loss: 0.0655 - acc: 0.9723 - val_loss: 0.6245 - val_acc: 0.8820\n",
      "Epoch 15/20\n",
      "1445/1445 [==============================] - 1s 707us/step - loss: 0.0586 - acc: 0.9744 - val_loss: 0.5098 - val_acc: 0.9006\n",
      "Epoch 16/20\n",
      "1445/1445 [==============================] - 1s 736us/step - loss: 0.0610 - acc: 0.9702 - val_loss: 0.5461 - val_acc: 0.8944\n",
      "Epoch 17/20\n",
      "1445/1445 [==============================] - 1s 725us/step - loss: 0.0631 - acc: 0.9675 - val_loss: 0.5466 - val_acc: 0.8820\n",
      "Epoch 18/20\n",
      "1445/1445 [==============================] - 1s 714us/step - loss: 0.0603 - acc: 0.9709 - val_loss: 0.5821 - val_acc: 0.8820\n",
      "Epoch 19/20\n",
      "1445/1445 [==============================] - 1s 717us/step - loss: 0.0573 - acc: 0.9723 - val_loss: 0.5707 - val_acc: 0.8944\n",
      "Epoch 20/20\n",
      "1445/1445 [==============================] - 1s 720us/step - loss: 0.0590 - acc: 0.9737 - val_loss: 0.6071 - val_acc: 0.8758\n",
      "Test loss: 0.48241\n",
      "Test Precision: 0.91045\n"
     ]
    },
    {
     "ename": "IndexError",
     "evalue": "list index out of range",
     "output_type": "error",
     "traceback": [
      "\u001b[0;31m---------------------------------------------------------------------------\u001b[0m",
      "\u001b[0;31mIndexError\u001b[0m                                Traceback (most recent call last)",
      "\u001b[0;32m<ipython-input-263-3805edc78124>\u001b[0m in \u001b[0;36m<module>\u001b[0;34m()\u001b[0m\n\u001b[1;32m     20\u001b[0m \u001b[0mprint\u001b[0m\u001b[0;34m(\u001b[0m\u001b[0;34m\"Test loss: {:.5f}\"\u001b[0m\u001b[0;34m.\u001b[0m\u001b[0mformat\u001b[0m\u001b[0;34m(\u001b[0m\u001b[0mscore\u001b[0m\u001b[0;34m[\u001b[0m\u001b[0;36m0\u001b[0m\u001b[0;34m]\u001b[0m\u001b[0;34m)\u001b[0m\u001b[0;34m)\u001b[0m\u001b[0;34m\u001b[0m\u001b[0m\n\u001b[1;32m     21\u001b[0m \u001b[0mprint\u001b[0m\u001b[0;34m(\u001b[0m\u001b[0;34m\"Test Precision: {:.5f}\"\u001b[0m\u001b[0;34m.\u001b[0m\u001b[0mformat\u001b[0m\u001b[0;34m(\u001b[0m\u001b[0mscore\u001b[0m\u001b[0;34m[\u001b[0m\u001b[0;36m1\u001b[0m\u001b[0;34m]\u001b[0m\u001b[0;34m)\u001b[0m\u001b[0;34m)\u001b[0m\u001b[0;34m\u001b[0m\u001b[0m\n\u001b[0;32m---> 22\u001b[0;31m \u001b[0mprint\u001b[0m\u001b[0;34m(\u001b[0m\u001b[0;34m\"Test Recall: {:.5f}\"\u001b[0m\u001b[0;34m.\u001b[0m\u001b[0mformat\u001b[0m\u001b[0;34m(\u001b[0m\u001b[0mscore\u001b[0m\u001b[0;34m[\u001b[0m\u001b[0;36m2\u001b[0m\u001b[0;34m]\u001b[0m\u001b[0;34m)\u001b[0m\u001b[0;34m)\u001b[0m\u001b[0;34m\u001b[0m\u001b[0m\n\u001b[0m\u001b[1;32m     23\u001b[0m \u001b[0;34m\u001b[0m\u001b[0m\n\u001b[1;32m     24\u001b[0m \u001b[0;31m# moving dup words: .91045\u001b[0m\u001b[0;34m\u001b[0m\u001b[0;34m\u001b[0m\u001b[0m\n",
      "\u001b[0;31mIndexError\u001b[0m: list index out of range"
     ]
    }
   ],
   "source": [
    "X_train.shape\n",
    "\n",
    "model_dropout = Sequential([\n",
    "    Dense(1024, input_shape=(1689,), activation='relu'),\n",
    "    Dropout(.5),\n",
    "    Dense(1024, activation='relu'),\n",
    "    Dropout(.5),\n",
    "    Dense(1024, activation='relu'),\n",
    "    Dropout(.5),\n",
    "    Dense(1024, activation='relu'),\n",
    "    Dropout(.5),\n",
    "    Dense(1, activation='sigmoid'),\n",
    "])\n",
    "\n",
    "import keras_metrics\n",
    "model_dropout.compile(\"adam\", \"binary_crossentropy\", metrics=['accuracy'])\n",
    "history_dropout = model_dropout.fit(X_train, y_train, batch_size=128, epochs=20, verbose=1, validation_split=.1)\n",
    "\n",
    "score = model_dropout.evaluate(X_test, y_test, verbose=0)\n",
    "print(\"Test loss: {:.5f}\".format(score[0]))\n",
    "print(\"Test Precision: {:.5f}\".format(score[1]))\n",
    "print(\"Test Recall: {:.5f}\".format(score[2]))\n",
    "\n",
    "# moving dup words: .91045"
   ]
  },
  {
   "cell_type": "code",
   "execution_count": 264,
   "metadata": {},
   "outputs": [
    {
     "data": {
      "text/plain": [
       "0.8992537313432836"
      ]
     },
     "execution_count": 264,
     "metadata": {},
     "output_type": "execute_result"
    }
   ],
   "source": [
    "ngram_size = (2, 5)\n",
    "\n",
    "# tfid\n",
    "vec_X = TfidfVectorizer(encoding='utf-8', ngram_range = ngram_size)\n",
    "X_X = vec_X.fit_transform(X['description_x'].values.astype('U'))\n",
    "\n",
    "\n",
    "vec_Y = TfidfVectorizer(encoding='utf-8', ngram_range = ngram_size)\n",
    "X_Y = vec_Y.fit_transform(X['description_y'].values.astype('U'))\n",
    "\n",
    "\n",
    "X_concat = hstack([X_X, X_Y])\n",
    "\n",
    "X_train_all = X_concat.tocsr()\n",
    "X_train, X_test, y_train, y_test = train_test_split(X_train_all, y, random_state=0)\n",
    "\n",
    "lr = LogisticRegressionCV().fit(X_train, y_train)\n",
    "lr.score(X_test, y_test)\n",
    "\n",
    "#with moving dup words: .8936"
   ]
  },
  {
   "cell_type": "code",
   "execution_count": 266,
   "metadata": {},
   "outputs": [
    {
     "name": "stdout",
     "output_type": "stream",
     "text": [
      "Train on 1445 samples, validate on 161 samples\n",
      "Epoch 1/20\n",
      "1445/1445 [==============================] - 5s 3ms/step - loss: 0.6136 - acc: 0.7128 - val_loss: 0.5789 - val_acc: 0.7205\n",
      "Epoch 2/20\n",
      "1445/1445 [==============================] - 2s 1ms/step - loss: 0.5024 - acc: 0.7516 - val_loss: 0.4795 - val_acc: 0.7453\n",
      "Epoch 3/20\n",
      "1445/1445 [==============================] - 2s 1ms/step - loss: 0.3242 - acc: 0.8616 - val_loss: 0.5052 - val_acc: 0.8075\n",
      "Epoch 4/20\n",
      "1445/1445 [==============================] - 2s 1ms/step - loss: 0.1952 - acc: 0.9322 - val_loss: 0.5470 - val_acc: 0.8261\n",
      "Epoch 5/20\n",
      "1445/1445 [==============================] - 2s 1ms/step - loss: 0.1552 - acc: 0.9509 - val_loss: 0.5521 - val_acc: 0.8261\n",
      "Epoch 6/20\n",
      "1445/1445 [==============================] - 2s 1ms/step - loss: 0.1563 - acc: 0.9453 - val_loss: 0.5033 - val_acc: 0.8385\n",
      "Epoch 7/20\n",
      "1445/1445 [==============================] - 2s 1ms/step - loss: 0.1607 - acc: 0.9460 - val_loss: 0.5754 - val_acc: 0.8075\n",
      "Epoch 8/20\n",
      "1445/1445 [==============================] - 2s 1ms/step - loss: 0.1478 - acc: 0.9488 - val_loss: 0.5196 - val_acc: 0.8261\n",
      "Epoch 9/20\n",
      "1445/1445 [==============================] - 2s 1ms/step - loss: 0.1381 - acc: 0.9522 - val_loss: 0.5105 - val_acc: 0.8261\n",
      "Epoch 10/20\n",
      "1445/1445 [==============================] - 2s 1ms/step - loss: 0.1401 - acc: 0.9509 - val_loss: 0.5140 - val_acc: 0.8261\n",
      "Epoch 11/20\n",
      "1445/1445 [==============================] - 2s 1ms/step - loss: 0.1403 - acc: 0.9536 - val_loss: 0.5234 - val_acc: 0.8199\n",
      "Epoch 12/20\n",
      "1445/1445 [==============================] - 2s 1ms/step - loss: 0.1333 - acc: 0.9502 - val_loss: 0.5221 - val_acc: 0.8199\n",
      "Epoch 13/20\n",
      "1445/1445 [==============================] - 2s 1ms/step - loss: 0.1364 - acc: 0.9522 - val_loss: 0.5447 - val_acc: 0.8199\n",
      "Epoch 14/20\n",
      "1445/1445 [==============================] - 2s 1ms/step - loss: 0.1354 - acc: 0.9522 - val_loss: 0.5373 - val_acc: 0.8199\n",
      "Epoch 15/20\n",
      "1445/1445 [==============================] - 2s 1ms/step - loss: 0.1335 - acc: 0.9502 - val_loss: 0.5572 - val_acc: 0.8199\n",
      "Epoch 16/20\n",
      "1445/1445 [==============================] - 2s 1ms/step - loss: 0.1343 - acc: 0.9522 - val_loss: 0.5556 - val_acc: 0.8261\n",
      "Epoch 17/20\n",
      "1445/1445 [==============================] - 2s 1ms/step - loss: 0.1328 - acc: 0.9495 - val_loss: 0.5311 - val_acc: 0.8261\n",
      "Epoch 18/20\n",
      "1445/1445 [==============================] - 2s 1ms/step - loss: 0.1326 - acc: 0.9516 - val_loss: 0.5820 - val_acc: 0.8199\n",
      "Epoch 19/20\n",
      "1445/1445 [==============================] - 2s 1ms/step - loss: 0.1346 - acc: 0.9502 - val_loss: 0.5325 - val_acc: 0.8199\n",
      "Epoch 20/20\n",
      "1445/1445 [==============================] - 2s 1ms/step - loss: 0.1363 - acc: 0.9488 - val_loss: 0.5585 - val_acc: 0.8199\n",
      "Test loss: 0.36692\n",
      "Test Precision: 0.88806\n"
     ]
    },
    {
     "ename": "IndexError",
     "evalue": "list index out of range",
     "output_type": "error",
     "traceback": [
      "\u001b[0;31m---------------------------------------------------------------------------\u001b[0m",
      "\u001b[0;31mIndexError\u001b[0m                                Traceback (most recent call last)",
      "\u001b[0;32m<ipython-input-266-66b5b544f831>\u001b[0m in \u001b[0;36m<module>\u001b[0;34m()\u001b[0m\n\u001b[1;32m     20\u001b[0m \u001b[0mprint\u001b[0m\u001b[0;34m(\u001b[0m\u001b[0;34m\"Test loss: {:.5f}\"\u001b[0m\u001b[0;34m.\u001b[0m\u001b[0mformat\u001b[0m\u001b[0;34m(\u001b[0m\u001b[0mscore\u001b[0m\u001b[0;34m[\u001b[0m\u001b[0;36m0\u001b[0m\u001b[0;34m]\u001b[0m\u001b[0;34m)\u001b[0m\u001b[0;34m)\u001b[0m\u001b[0;34m\u001b[0m\u001b[0m\n\u001b[1;32m     21\u001b[0m \u001b[0mprint\u001b[0m\u001b[0;34m(\u001b[0m\u001b[0;34m\"Test Precision: {:.5f}\"\u001b[0m\u001b[0;34m.\u001b[0m\u001b[0mformat\u001b[0m\u001b[0;34m(\u001b[0m\u001b[0mscore\u001b[0m\u001b[0;34m[\u001b[0m\u001b[0;36m1\u001b[0m\u001b[0;34m]\u001b[0m\u001b[0;34m)\u001b[0m\u001b[0;34m)\u001b[0m\u001b[0;34m\u001b[0m\u001b[0m\n\u001b[0;32m---> 22\u001b[0;31m \u001b[0mprint\u001b[0m\u001b[0;34m(\u001b[0m\u001b[0;34m\"Test Recall: {:.5f}\"\u001b[0m\u001b[0;34m.\u001b[0m\u001b[0mformat\u001b[0m\u001b[0;34m(\u001b[0m\u001b[0mscore\u001b[0m\u001b[0;34m[\u001b[0m\u001b[0;36m2\u001b[0m\u001b[0;34m]\u001b[0m\u001b[0;34m)\u001b[0m\u001b[0;34m)\u001b[0m\u001b[0;34m\u001b[0m\u001b[0m\n\u001b[0m\u001b[1;32m     23\u001b[0m \u001b[0;34m\u001b[0m\u001b[0m\n\u001b[1;32m     24\u001b[0m \u001b[0;34m\u001b[0m\u001b[0m\n",
      "\u001b[0;31mIndexError\u001b[0m: list index out of range"
     ]
    }
   ],
   "source": [
    "X_train.shape\n",
    "\n",
    "model_dropout = Sequential([\n",
    "    Dense(1024, input_shape=(5332,), activation='relu'),\n",
    "    Dropout(.5),\n",
    "    Dense(1024, activation='relu'),\n",
    "    Dropout(.5),\n",
    "    Dense(1024, activation='relu'),\n",
    "    Dropout(.5),\n",
    "    Dense(1024, activation='relu'),\n",
    "    Dropout(.5),\n",
    "    Dense(1, activation='sigmoid'),\n",
    "])\n",
    "\n",
    "import keras_metrics\n",
    "model_dropout.compile(\"adam\", \"binary_crossentropy\", metrics=['accuracy'])\n",
    "history_dropout = model_dropout.fit(X_train, y_train, batch_size=128, epochs=20, verbose=1, validation_split=.1)\n",
    "\n",
    "score = model_dropout.evaluate(X_test, y_test, verbose=0)\n",
    "print(\"Test loss: {:.5f}\".format(score[0]))\n",
    "print(\"Test Precision: {:.5f}\".format(score[1]))\n",
    "print(\"Test Recall: {:.5f}\".format(score[2]))\n",
    "\n",
    "\n",
    "#with moving dup words: 0.89552"
   ]
  },
  {
   "cell_type": "code",
   "execution_count": 267,
   "metadata": {},
   "outputs": [
    {
     "data": {
      "text/plain": [
       "0.9011194029850746"
      ]
     },
     "execution_count": 267,
     "metadata": {},
     "output_type": "execute_result"
    }
   ],
   "source": [
    "# countvec\n",
    "vec_X = CountVectorizer( encoding='utf-8')\n",
    "X_X = vec_X.fit_transform(X['description_x'].values.astype('U'))\n",
    "\n",
    "\n",
    "vec_Y = CountVectorizer(encoding='utf-8')\n",
    "X_Y = vec_Y.fit_transform(X['description_y'].values.astype('U'))\n",
    "\n",
    "\n",
    "X_concat = hstack([X_X, X_Y])\n",
    "\n",
    "X_train_all = X_concat.tocsr()\n",
    "\n",
    "X_train, X_test, y_train, y_test = train_test_split(X_train_all, y, random_state=0)\n",
    "\n",
    "lr = LogisticRegressionCV().fit(X_train, y_train)\n",
    "lr.score(X_test, y_test)"
   ]
  },
  {
   "cell_type": "code",
   "execution_count": 269,
   "metadata": {},
   "outputs": [
    {
     "name": "stdout",
     "output_type": "stream",
     "text": [
      "Train on 1445 samples, validate on 161 samples\n",
      "Epoch 1/20\n",
      "1445/1445 [==============================] - 4s 3ms/step - loss: 0.5851 - acc: 0.7239 - val_loss: 0.5326 - val_acc: 0.7205\n",
      "Epoch 2/20\n",
      "1445/1445 [==============================] - 1s 717us/step - loss: 0.4123 - acc: 0.7903 - val_loss: 0.3889 - val_acc: 0.8323\n",
      "Epoch 3/20\n",
      "1445/1445 [==============================] - 1s 755us/step - loss: 0.2571 - acc: 0.8893 - val_loss: 0.4392 - val_acc: 0.8385\n",
      "Epoch 4/20\n",
      "1445/1445 [==============================] - 1s 769us/step - loss: 0.1576 - acc: 0.9308 - val_loss: 0.4251 - val_acc: 0.8820\n",
      "Epoch 5/20\n",
      "1445/1445 [==============================] - 1s 735us/step - loss: 0.1253 - acc: 0.9426 - val_loss: 0.3977 - val_acc: 0.8882\n",
      "Epoch 6/20\n",
      "1445/1445 [==============================] - 1s 732us/step - loss: 0.1146 - acc: 0.9529 - val_loss: 0.4153 - val_acc: 0.8696\n",
      "Epoch 7/20\n",
      "1445/1445 [==============================] - 1s 727us/step - loss: 0.0935 - acc: 0.9564 - val_loss: 0.4937 - val_acc: 0.8758\n",
      "Epoch 8/20\n",
      "1445/1445 [==============================] - 1s 726us/step - loss: 0.0844 - acc: 0.9661 - val_loss: 0.5255 - val_acc: 0.8820\n",
      "Epoch 9/20\n",
      "1445/1445 [==============================] - 1s 744us/step - loss: 0.0743 - acc: 0.9675 - val_loss: 0.5316 - val_acc: 0.8882\n",
      "Epoch 10/20\n",
      "1445/1445 [==============================] - 1s 724us/step - loss: 0.0717 - acc: 0.9647 - val_loss: 0.5638 - val_acc: 0.8944\n",
      "Epoch 11/20\n",
      "1445/1445 [==============================] - 1s 714us/step - loss: 0.0684 - acc: 0.9723 - val_loss: 0.5672 - val_acc: 0.8882\n",
      "Epoch 12/20\n",
      "1445/1445 [==============================] - 1s 733us/step - loss: 0.0717 - acc: 0.9689 - val_loss: 0.6237 - val_acc: 0.8758\n",
      "Epoch 13/20\n",
      "1445/1445 [==============================] - 1s 724us/step - loss: 0.0833 - acc: 0.9626 - val_loss: 0.5097 - val_acc: 0.8944\n",
      "Epoch 14/20\n",
      "1445/1445 [==============================] - 1s 727us/step - loss: 0.0749 - acc: 0.9675 - val_loss: 0.5352 - val_acc: 0.8820\n",
      "Epoch 15/20\n",
      "1445/1445 [==============================] - 1s 729us/step - loss: 0.0652 - acc: 0.9661 - val_loss: 0.5611 - val_acc: 0.8820\n",
      "Epoch 16/20\n",
      "1445/1445 [==============================] - 1s 731us/step - loss: 0.0688 - acc: 0.9647 - val_loss: 0.5325 - val_acc: 0.8758\n",
      "Epoch 17/20\n",
      "1445/1445 [==============================] - 1s 729us/step - loss: 0.0577 - acc: 0.9744 - val_loss: 0.6040 - val_acc: 0.8820\n",
      "Epoch 18/20\n",
      "1445/1445 [==============================] - 1s 729us/step - loss: 0.0618 - acc: 0.9744 - val_loss: 0.5884 - val_acc: 0.8820\n",
      "Epoch 19/20\n",
      "1445/1445 [==============================] - 1s 714us/step - loss: 0.0531 - acc: 0.9730 - val_loss: 0.6302 - val_acc: 0.8758\n",
      "Epoch 20/20\n",
      "1445/1445 [==============================] - 1s 717us/step - loss: 0.0534 - acc: 0.9744 - val_loss: 0.5421 - val_acc: 0.8820\n",
      "Test loss: 0.48411\n",
      "Test Precision: 0.91045\n"
     ]
    },
    {
     "ename": "IndexError",
     "evalue": "list index out of range",
     "output_type": "error",
     "traceback": [
      "\u001b[0;31m---------------------------------------------------------------------------\u001b[0m",
      "\u001b[0;31mIndexError\u001b[0m                                Traceback (most recent call last)",
      "\u001b[0;32m<ipython-input-269-df623f66f3cd>\u001b[0m in \u001b[0;36m<module>\u001b[0;34m()\u001b[0m\n\u001b[1;32m     20\u001b[0m \u001b[0mprint\u001b[0m\u001b[0;34m(\u001b[0m\u001b[0;34m\"Test loss: {:.5f}\"\u001b[0m\u001b[0;34m.\u001b[0m\u001b[0mformat\u001b[0m\u001b[0;34m(\u001b[0m\u001b[0mscore\u001b[0m\u001b[0;34m[\u001b[0m\u001b[0;36m0\u001b[0m\u001b[0;34m]\u001b[0m\u001b[0;34m)\u001b[0m\u001b[0;34m)\u001b[0m\u001b[0;34m\u001b[0m\u001b[0m\n\u001b[1;32m     21\u001b[0m \u001b[0mprint\u001b[0m\u001b[0;34m(\u001b[0m\u001b[0;34m\"Test Precision: {:.5f}\"\u001b[0m\u001b[0;34m.\u001b[0m\u001b[0mformat\u001b[0m\u001b[0;34m(\u001b[0m\u001b[0mscore\u001b[0m\u001b[0;34m[\u001b[0m\u001b[0;36m1\u001b[0m\u001b[0;34m]\u001b[0m\u001b[0;34m)\u001b[0m\u001b[0;34m)\u001b[0m\u001b[0;34m\u001b[0m\u001b[0m\n\u001b[0;32m---> 22\u001b[0;31m \u001b[0mprint\u001b[0m\u001b[0;34m(\u001b[0m\u001b[0;34m\"Test Recall: {:.5f}\"\u001b[0m\u001b[0;34m.\u001b[0m\u001b[0mformat\u001b[0m\u001b[0;34m(\u001b[0m\u001b[0mscore\u001b[0m\u001b[0;34m[\u001b[0m\u001b[0;36m2\u001b[0m\u001b[0;34m]\u001b[0m\u001b[0;34m)\u001b[0m\u001b[0;34m)\u001b[0m\u001b[0;34m\u001b[0m\u001b[0m\n\u001b[0m",
      "\u001b[0;31mIndexError\u001b[0m: list index out of range"
     ]
    }
   ],
   "source": [
    "X_train.shape\n",
    "\n",
    "model_dropout = Sequential([\n",
    "    Dense(1024, input_shape=(1689,), activation='relu'),\n",
    "    Dropout(.5),\n",
    "    Dense(1024, activation='relu'),\n",
    "    Dropout(.5),\n",
    "    Dense(1024, activation='relu'),\n",
    "    Dropout(.5),\n",
    "    Dense(1024, activation='relu'),\n",
    "    Dropout(.5),\n",
    "    Dense(1, activation='sigmoid'),\n",
    "])\n",
    "\n",
    "import keras_metrics\n",
    "model_dropout.compile(\"adam\", \"binary_crossentropy\", metrics=['accuracy'])\n",
    "history_dropout = model_dropout.fit(X_train, y_train, batch_size=128, epochs=20, verbose=1, validation_split=.1)\n",
    "\n",
    "score = model_dropout.evaluate(X_test, y_test, verbose=0)\n",
    "print(\"Test loss: {:.5f}\".format(score[0]))\n",
    "print(\"Test Precision: {:.5f}\".format(score[1]))\n",
    "print(\"Test Recall: {:.5f}\".format(score[2]))"
   ]
  },
  {
   "cell_type": "code",
   "execution_count": 270,
   "metadata": {
    "scrolled": true
   },
   "outputs": [
    {
     "data": {
      "text/plain": [
       "0.9011194029850746"
      ]
     },
     "execution_count": 270,
     "metadata": {},
     "output_type": "execute_result"
    }
   ],
   "source": [
    "# adding ngram\n",
    "vec_X = CountVectorizer(ngram_range=(1, 4), encoding='utf-8')\n",
    "X_X = vec_X.fit_transform(X['description_x'].values.astype('U'))\n",
    "\n",
    "\n",
    "vec_Y = CountVectorizer(ngram_range=(1, 4), encoding='utf-8')\n",
    "X_Y = vec_Y.fit_transform(X['description_y'].values.astype('U'))\n",
    "\n",
    "\n",
    "X_concat = hstack([X_X, X_Y])\n",
    "\n",
    "X_train_all = X_concat.tocsr()\n",
    "\n",
    "X_train, X_test, y_train, y_test = train_test_split(X_train_all, y, random_state=0)\n",
    "\n",
    "lr = LogisticRegressionCV().fit(X_train, y_train)\n",
    "lr.score(X_test, y_test)"
   ]
  },
  {
   "cell_type": "code",
   "execution_count": 271,
   "metadata": {},
   "outputs": [
    {
     "data": {
      "text/plain": [
       "(1606, 6660)"
      ]
     },
     "execution_count": 271,
     "metadata": {},
     "output_type": "execute_result"
    }
   ],
   "source": [
    "X_train.shape"
   ]
  },
  {
   "cell_type": "code",
   "execution_count": 272,
   "metadata": {
    "collapsed": true
   },
   "outputs": [],
   "source": [
    "model_dropout = Sequential([\n",
    "    Dense(1024, input_shape=(6660,), activation='relu'),\n",
    "    Dropout(.5),\n",
    "    Dense(1024, activation='relu'),\n",
    "    Dropout(.5),\n",
    "    Dense(1024, activation='relu'),\n",
    "    Dropout(.5),\n",
    "    Dense(1024, activation='relu'),\n",
    "    Dropout(.5),\n",
    "    Dense(1, activation='sigmoid'),\n",
    "])"
   ]
  },
  {
   "cell_type": "code",
   "execution_count": 273,
   "metadata": {
    "scrolled": false
   },
   "outputs": [
    {
     "name": "stdout",
     "output_type": "stream",
     "text": [
      "Train on 1445 samples, validate on 161 samples\n",
      "Epoch 1/20\n",
      "1445/1445 [==============================] - 5s 4ms/step - loss: 0.6042 - acc: 0.7363 - val_loss: 0.5442 - val_acc: 0.7205\n",
      "Epoch 2/20\n",
      "1445/1445 [==============================] - 2s 1ms/step - loss: 0.3825 - acc: 0.7855 - val_loss: 0.4285 - val_acc: 0.8199\n",
      "Epoch 3/20\n",
      "1445/1445 [==============================] - 2s 1ms/step - loss: 0.1850 - acc: 0.9280 - val_loss: 0.6342 - val_acc: 0.8447\n",
      "Epoch 4/20\n",
      "1445/1445 [==============================] - 2s 1ms/step - loss: 0.1129 - acc: 0.9536 - val_loss: 0.5054 - val_acc: 0.8696\n",
      "Epoch 5/20\n",
      "1445/1445 [==============================] - 2s 2ms/step - loss: 0.0864 - acc: 0.9647 - val_loss: 0.5759 - val_acc: 0.8323\n",
      "Epoch 6/20\n",
      "1445/1445 [==============================] - 2s 1ms/step - loss: 0.0768 - acc: 0.9689 - val_loss: 0.6415 - val_acc: 0.8447\n",
      "Epoch 7/20\n",
      "1445/1445 [==============================] - 2s 1ms/step - loss: 0.0836 - acc: 0.9647 - val_loss: 0.7432 - val_acc: 0.8323\n",
      "Epoch 8/20\n",
      "1445/1445 [==============================] - 2s 1ms/step - loss: 0.0843 - acc: 0.9606 - val_loss: 0.5333 - val_acc: 0.8447\n",
      "Epoch 9/20\n",
      "1445/1445 [==============================] - 2s 2ms/step - loss: 0.0700 - acc: 0.9661 - val_loss: 0.5917 - val_acc: 0.8261\n",
      "Epoch 10/20\n",
      "1445/1445 [==============================] - 2s 1ms/step - loss: 0.0648 - acc: 0.9716 - val_loss: 0.6678 - val_acc: 0.8509\n",
      "Epoch 11/20\n",
      "1445/1445 [==============================] - 2s 2ms/step - loss: 0.0583 - acc: 0.9723 - val_loss: 0.6374 - val_acc: 0.8323\n",
      "Epoch 12/20\n",
      "1445/1445 [==============================] - 2s 1ms/step - loss: 0.0561 - acc: 0.9723 - val_loss: 0.6721 - val_acc: 0.8509\n",
      "Epoch 13/20\n",
      "1445/1445 [==============================] - 2s 1ms/step - loss: 0.0575 - acc: 0.9744 - val_loss: 0.6888 - val_acc: 0.8385\n",
      "Epoch 14/20\n",
      "1445/1445 [==============================] - 2s 1ms/step - loss: 0.0574 - acc: 0.9730 - val_loss: 0.7302 - val_acc: 0.8634\n",
      "Epoch 15/20\n",
      "1445/1445 [==============================] - 2s 1ms/step - loss: 0.0585 - acc: 0.9689 - val_loss: 0.6523 - val_acc: 0.8323\n",
      "Epoch 16/20\n",
      "1445/1445 [==============================] - 2s 1ms/step - loss: 0.0542 - acc: 0.9744 - val_loss: 0.6985 - val_acc: 0.8571\n",
      "Epoch 17/20\n",
      "1445/1445 [==============================] - 2s 1ms/step - loss: 0.0530 - acc: 0.9751 - val_loss: 0.7573 - val_acc: 0.8571\n",
      "Epoch 18/20\n",
      "1445/1445 [==============================] - 2s 1ms/step - loss: 0.0564 - acc: 0.9737 - val_loss: 0.6761 - val_acc: 0.8571\n",
      "Epoch 19/20\n",
      "1445/1445 [==============================] - 2s 1ms/step - loss: 0.0509 - acc: 0.9765 - val_loss: 0.7668 - val_acc: 0.8509\n",
      "Epoch 20/20\n",
      "1445/1445 [==============================] - 2s 1ms/step - loss: 0.0503 - acc: 0.9723 - val_loss: 0.8149 - val_acc: 0.8385\n"
     ]
    }
   ],
   "source": [
    "import keras_metrics\n",
    "model_dropout.compile(\"adam\", \"binary_crossentropy\", metrics=['accuracy'])\n",
    "history_dropout = model_dropout.fit(X_train, y_train, batch_size=128, epochs=20, verbose=1, validation_split=.1)"
   ]
  },
  {
   "cell_type": "code",
   "execution_count": 274,
   "metadata": {},
   "outputs": [
    {
     "name": "stdout",
     "output_type": "stream",
     "text": [
      "Test loss: 0.59065\n",
      "Test Precision: 0.90858\n"
     ]
    },
    {
     "ename": "IndexError",
     "evalue": "list index out of range",
     "output_type": "error",
     "traceback": [
      "\u001b[0;31m---------------------------------------------------------------------------\u001b[0m",
      "\u001b[0;31mIndexError\u001b[0m                                Traceback (most recent call last)",
      "\u001b[0;32m<ipython-input-274-679d80e890a0>\u001b[0m in \u001b[0;36m<module>\u001b[0;34m()\u001b[0m\n\u001b[1;32m      2\u001b[0m \u001b[0mprint\u001b[0m\u001b[0;34m(\u001b[0m\u001b[0;34m\"Test loss: {:.5f}\"\u001b[0m\u001b[0;34m.\u001b[0m\u001b[0mformat\u001b[0m\u001b[0;34m(\u001b[0m\u001b[0mscore\u001b[0m\u001b[0;34m[\u001b[0m\u001b[0;36m0\u001b[0m\u001b[0;34m]\u001b[0m\u001b[0;34m)\u001b[0m\u001b[0;34m)\u001b[0m\u001b[0;34m\u001b[0m\u001b[0m\n\u001b[1;32m      3\u001b[0m \u001b[0mprint\u001b[0m\u001b[0;34m(\u001b[0m\u001b[0;34m\"Test Precision: {:.5f}\"\u001b[0m\u001b[0;34m.\u001b[0m\u001b[0mformat\u001b[0m\u001b[0;34m(\u001b[0m\u001b[0mscore\u001b[0m\u001b[0;34m[\u001b[0m\u001b[0;36m1\u001b[0m\u001b[0;34m]\u001b[0m\u001b[0;34m)\u001b[0m\u001b[0;34m)\u001b[0m\u001b[0;34m\u001b[0m\u001b[0m\n\u001b[0;32m----> 4\u001b[0;31m \u001b[0mprint\u001b[0m\u001b[0;34m(\u001b[0m\u001b[0;34m\"Test Recall: {:.5f}\"\u001b[0m\u001b[0;34m.\u001b[0m\u001b[0mformat\u001b[0m\u001b[0;34m(\u001b[0m\u001b[0mscore\u001b[0m\u001b[0;34m[\u001b[0m\u001b[0;36m2\u001b[0m\u001b[0;34m]\u001b[0m\u001b[0;34m)\u001b[0m\u001b[0;34m)\u001b[0m\u001b[0;34m\u001b[0m\u001b[0m\n\u001b[0m",
      "\u001b[0;31mIndexError\u001b[0m: list index out of range"
     ]
    }
   ],
   "source": [
    "score = model_dropout.evaluate(X_test, y_test, verbose=0)\n",
    "print(\"Test loss: {:.5f}\".format(score[0]))\n",
    "print(\"Test Precision: {:.5f}\".format(score[1]))\n",
    "print(\"Test Recall: {:.5f}\".format(score[2]))"
   ]
  },
  {
   "cell_type": "code",
   "execution_count": 275,
   "metadata": {},
   "outputs": [
    {
     "data": {
      "text/plain": [
       "0.9011194029850746"
      ]
     },
     "execution_count": 275,
     "metadata": {},
     "output_type": "execute_result"
    }
   ],
   "source": [
    "# adding stop words (not good)\n",
    "vec_X = CountVectorizer(ngram_range=(1, 4), encoding='utf-8', stop_words = 'english')\n",
    "X_X = vec_X.fit_transform(X['description_x'].values.astype('U'))\n",
    "\n",
    "\n",
    "vec_Y = CountVectorizer(ngram_range=(1, 4), encoding='utf-8', stop_words = 'english')\n",
    "X_Y = vec_Y.fit_transform(X['description_y'].values.astype('U'))\n",
    "\n",
    "\n",
    "X_concat = hstack([X_X, X_Y])\n",
    "\n",
    "X_train_all = X_concat.tocsr()\n",
    "\n",
    "X_train, X_test, y_train, y_test = train_test_split(X_train_all, y, random_state=0)\n",
    "\n",
    "lr = LogisticRegressionCV().fit(X_train, y_train)\n",
    "lr.score(X_test, y_test)"
   ]
  },
  {
   "cell_type": "code",
   "execution_count": 277,
   "metadata": {},
   "outputs": [
    {
     "name": "stdout",
     "output_type": "stream",
     "text": [
      "Train on 1445 samples, validate on 161 samples\n",
      "Epoch 1/20\n",
      "1445/1445 [==============================] - 5s 4ms/step - loss: 0.6198 - acc: 0.7315 - val_loss: 0.5546 - val_acc: 0.7205\n",
      "Epoch 2/20\n",
      "1445/1445 [==============================] - 2s 1ms/step - loss: 0.4238 - acc: 0.7841 - val_loss: 0.3965 - val_acc: 0.8199\n",
      "Epoch 3/20\n",
      "1445/1445 [==============================] - 2s 1ms/step - loss: 0.2138 - acc: 0.9266 - val_loss: 0.5947 - val_acc: 0.8199\n",
      "Epoch 4/20\n",
      "1445/1445 [==============================] - 2s 1ms/step - loss: 0.1121 - acc: 0.9536 - val_loss: 0.4956 - val_acc: 0.8758\n",
      "Epoch 5/20\n",
      "1445/1445 [==============================] - 2s 1ms/step - loss: 0.0915 - acc: 0.9619 - val_loss: 0.4738 - val_acc: 0.8634\n",
      "Epoch 6/20\n",
      "1445/1445 [==============================] - 2s 1ms/step - loss: 0.0780 - acc: 0.9633 - val_loss: 0.5432 - val_acc: 0.8634\n",
      "Epoch 7/20\n",
      "1445/1445 [==============================] - 2s 1ms/step - loss: 0.0790 - acc: 0.9661 - val_loss: 0.6358 - val_acc: 0.8199\n",
      "Epoch 8/20\n",
      "1445/1445 [==============================] - 2s 1ms/step - loss: 0.0831 - acc: 0.9675 - val_loss: 0.5293 - val_acc: 0.8758\n",
      "Epoch 9/20\n",
      "1445/1445 [==============================] - 2s 1ms/step - loss: 0.0716 - acc: 0.9633 - val_loss: 0.5653 - val_acc: 0.8571\n",
      "Epoch 10/20\n",
      "1445/1445 [==============================] - 2s 2ms/step - loss: 0.0643 - acc: 0.9730 - val_loss: 0.6125 - val_acc: 0.8634\n",
      "Epoch 11/20\n",
      "1445/1445 [==============================] - 2s 2ms/step - loss: 0.0601 - acc: 0.9751 - val_loss: 0.6425 - val_acc: 0.8509\n",
      "Epoch 12/20\n",
      "1445/1445 [==============================] - 2s 1ms/step - loss: 0.0576 - acc: 0.9779 - val_loss: 0.6215 - val_acc: 0.8571\n",
      "Epoch 13/20\n",
      "1445/1445 [==============================] - 2s 2ms/step - loss: 0.0560 - acc: 0.9751 - val_loss: 0.6402 - val_acc: 0.8571\n",
      "Epoch 14/20\n",
      "1445/1445 [==============================] - 2s 1ms/step - loss: 0.0555 - acc: 0.9758 - val_loss: 0.6316 - val_acc: 0.8571\n",
      "Epoch 15/20\n",
      "1445/1445 [==============================] - 2s 1ms/step - loss: 0.0522 - acc: 0.9772 - val_loss: 0.6859 - val_acc: 0.8571\n",
      "Epoch 16/20\n",
      "1445/1445 [==============================] - 2s 1ms/step - loss: 0.0589 - acc: 0.9765 - val_loss: 0.6484 - val_acc: 0.8634\n",
      "Epoch 17/20\n",
      "1445/1445 [==============================] - 2s 1ms/step - loss: 0.0545 - acc: 0.9772 - val_loss: 0.6389 - val_acc: 0.8634\n",
      "Epoch 18/20\n",
      "1445/1445 [==============================] - 2s 1ms/step - loss: 0.0509 - acc: 0.9744 - val_loss: 0.7148 - val_acc: 0.8571\n",
      "Epoch 19/20\n",
      "1445/1445 [==============================] - 2s 1ms/step - loss: 0.0541 - acc: 0.9730 - val_loss: 0.7075 - val_acc: 0.8696\n",
      "Epoch 20/20\n",
      "1445/1445 [==============================] - 2s 1ms/step - loss: 0.0535 - acc: 0.9751 - val_loss: 0.7128 - val_acc: 0.8634\n",
      "Test loss: 0.56463\n",
      "Test Precision: 0.89925\n"
     ]
    },
    {
     "ename": "IndexError",
     "evalue": "list index out of range",
     "output_type": "error",
     "traceback": [
      "\u001b[0;31m---------------------------------------------------------------------------\u001b[0m",
      "\u001b[0;31mIndexError\u001b[0m                                Traceback (most recent call last)",
      "\u001b[0;32m<ipython-input-277-cda4731a9ccd>\u001b[0m in \u001b[0;36m<module>\u001b[0;34m()\u001b[0m\n\u001b[1;32m     20\u001b[0m \u001b[0mprint\u001b[0m\u001b[0;34m(\u001b[0m\u001b[0;34m\"Test loss: {:.5f}\"\u001b[0m\u001b[0;34m.\u001b[0m\u001b[0mformat\u001b[0m\u001b[0;34m(\u001b[0m\u001b[0mscore\u001b[0m\u001b[0;34m[\u001b[0m\u001b[0;36m0\u001b[0m\u001b[0;34m]\u001b[0m\u001b[0;34m)\u001b[0m\u001b[0;34m)\u001b[0m\u001b[0;34m\u001b[0m\u001b[0m\n\u001b[1;32m     21\u001b[0m \u001b[0mprint\u001b[0m\u001b[0;34m(\u001b[0m\u001b[0;34m\"Test Precision: {:.5f}\"\u001b[0m\u001b[0;34m.\u001b[0m\u001b[0mformat\u001b[0m\u001b[0;34m(\u001b[0m\u001b[0mscore\u001b[0m\u001b[0;34m[\u001b[0m\u001b[0;36m1\u001b[0m\u001b[0;34m]\u001b[0m\u001b[0;34m)\u001b[0m\u001b[0;34m)\u001b[0m\u001b[0;34m\u001b[0m\u001b[0m\n\u001b[0;32m---> 22\u001b[0;31m \u001b[0mprint\u001b[0m\u001b[0;34m(\u001b[0m\u001b[0;34m\"Test Recall: {:.5f}\"\u001b[0m\u001b[0;34m.\u001b[0m\u001b[0mformat\u001b[0m\u001b[0;34m(\u001b[0m\u001b[0mscore\u001b[0m\u001b[0;34m[\u001b[0m\u001b[0;36m2\u001b[0m\u001b[0;34m]\u001b[0m\u001b[0;34m)\u001b[0m\u001b[0;34m)\u001b[0m\u001b[0;34m\u001b[0m\u001b[0m\n\u001b[0m",
      "\u001b[0;31mIndexError\u001b[0m: list index out of range"
     ]
    }
   ],
   "source": [
    "X_train.shape\n",
    "\n",
    "model_dropout = Sequential([\n",
    "    Dense(1024, input_shape=(6408,), activation='relu'),\n",
    "    Dropout(.5),\n",
    "    Dense(1024, activation='relu'),\n",
    "    Dropout(.5),\n",
    "    Dense(1024, activation='relu'),\n",
    "    Dropout(.5),\n",
    "    Dense(1024, activation='relu'),\n",
    "    Dropout(.5),\n",
    "    Dense(1, activation='sigmoid'),\n",
    "])\n",
    "\n",
    "import keras_metrics\n",
    "model_dropout.compile(\"adam\", \"binary_crossentropy\", metrics=['accuracy'])\n",
    "history_dropout = model_dropout.fit(X_train, y_train, batch_size=128, epochs=20, verbose=1, validation_split=.1)\n",
    "\n",
    "score = model_dropout.evaluate(X_test, y_test, verbose=0)\n",
    "print(\"Test loss: {:.5f}\".format(score[0]))\n",
    "print(\"Test Precision: {:.5f}\".format(score[1]))\n",
    "print(\"Test Recall: {:.5f}\".format(score[2]))"
   ]
  },
  {
   "cell_type": "code",
   "execution_count": 178,
   "metadata": {},
   "outputs": [
    {
     "data": {
      "text/plain": [
       "0.9123134328358209"
      ]
     },
     "execution_count": 178,
     "metadata": {},
     "output_type": "execute_result"
    }
   ],
   "source": [
    "\n",
    "vec_X = TfidfVectorizer(ngram_range=(1, 4), encoding='utf-8', stop_words = 'english')\n",
    "X_X = vec_X.fit_transform(X['description_x'].values.astype('U'))\n",
    "\n",
    "\n",
    "vec_Y = TfidfVectorizer(ngram_range=(1, 4), encoding='utf-8', stop_words = 'english')\n",
    "X_Y = vec_Y.fit_transform(X['description_y'].values.astype('U'))\n",
    "\n",
    "\n",
    "X_concat = hstack([X_X, X_Y])\n",
    "\n",
    "X_train_all = X_concat.tocsr()\n",
    "\n",
    "X_train, X_test, y_train, y_test = train_test_split(X_train_all, y, random_state=0)\n",
    "\n",
    "lr = LogisticRegressionCV().fit(X_train, y_train)\n",
    "lr.score(X_test, y_test)"
   ]
  },
  {
   "cell_type": "code",
   "execution_count": 179,
   "metadata": {
    "scrolled": true
   },
   "outputs": [
    {
     "name": "stdout",
     "output_type": "stream",
     "text": [
      "Train on 1445 samples, validate on 161 samples\n",
      "Epoch 1/20\n",
      "1445/1445 [==============================] - 5s 4ms/step - loss: 0.5956 - acc: 0.7398 - val_loss: 0.5720 - val_acc: 0.7205\n",
      "Epoch 2/20\n",
      "1445/1445 [==============================] - 2s 2ms/step - loss: 0.4365 - acc: 0.7516 - val_loss: 0.4441 - val_acc: 0.7205\n",
      "Epoch 3/20\n",
      "1445/1445 [==============================] - 2s 2ms/step - loss: 0.2662 - acc: 0.7958 - val_loss: 0.5328 - val_acc: 0.8509\n",
      "Epoch 4/20\n",
      "1445/1445 [==============================] - 2s 2ms/step - loss: 0.1656 - acc: 0.9675 - val_loss: 0.6418 - val_acc: 0.8634\n",
      "Epoch 5/20\n",
      "1445/1445 [==============================] - 3s 2ms/step - loss: 0.0618 - acc: 0.9799 - val_loss: 0.7471 - val_acc: 0.8696\n",
      "Epoch 6/20\n",
      "1445/1445 [==============================] - 2s 2ms/step - loss: 0.0594 - acc: 0.9806 - val_loss: 0.5687 - val_acc: 0.8571\n",
      "Epoch 7/20\n",
      "1445/1445 [==============================] - 2s 2ms/step - loss: 0.0379 - acc: 0.9855 - val_loss: 0.5280 - val_acc: 0.8696\n",
      "Epoch 8/20\n",
      "1445/1445 [==============================] - 2s 2ms/step - loss: 0.0328 - acc: 0.9869 - val_loss: 0.5858 - val_acc: 0.8571\n",
      "Epoch 9/20\n",
      "1445/1445 [==============================] - 2s 2ms/step - loss: 0.0384 - acc: 0.9841 - val_loss: 0.7039 - val_acc: 0.8634\n",
      "Epoch 10/20\n",
      "1445/1445 [==============================] - 2s 2ms/step - loss: 0.0317 - acc: 0.9903 - val_loss: 0.5263 - val_acc: 0.8758\n",
      "Epoch 11/20\n",
      "1445/1445 [==============================] - 2s 2ms/step - loss: 0.0287 - acc: 0.9910 - val_loss: 0.6353 - val_acc: 0.8696\n",
      "Epoch 12/20\n",
      "1445/1445 [==============================] - 2s 2ms/step - loss: 0.0248 - acc: 0.9869 - val_loss: 0.6091 - val_acc: 0.8696\n",
      "Epoch 13/20\n",
      "1445/1445 [==============================] - 2s 2ms/step - loss: 0.0243 - acc: 0.9889 - val_loss: 0.5885 - val_acc: 0.8820\n",
      "Epoch 14/20\n",
      "1445/1445 [==============================] - 2s 2ms/step - loss: 0.0257 - acc: 0.9882 - val_loss: 0.5758 - val_acc: 0.8696\n",
      "Epoch 15/20\n",
      "1445/1445 [==============================] - 2s 2ms/step - loss: 0.0245 - acc: 0.9875 - val_loss: 0.6442 - val_acc: 0.8696\n",
      "Epoch 16/20\n",
      "1445/1445 [==============================] - 2s 2ms/step - loss: 0.0256 - acc: 0.9882 - val_loss: 0.7238 - val_acc: 0.8696\n",
      "Epoch 17/20\n",
      "1445/1445 [==============================] - 2s 2ms/step - loss: 0.0214 - acc: 0.9875 - val_loss: 0.6010 - val_acc: 0.8820\n",
      "Epoch 18/20\n",
      "1445/1445 [==============================] - 2s 2ms/step - loss: 0.0208 - acc: 0.9889 - val_loss: 0.7258 - val_acc: 0.8696\n",
      "Epoch 19/20\n",
      "1445/1445 [==============================] - 2s 2ms/step - loss: 0.0204 - acc: 0.9910 - val_loss: 0.6867 - val_acc: 0.8758\n",
      "Epoch 20/20\n",
      "1445/1445 [==============================] - 2s 2ms/step - loss: 0.0246 - acc: 0.9882 - val_loss: 0.6756 - val_acc: 0.8634\n",
      "Test loss: 0.43300\n",
      "Test Precision: 0.91791\n"
     ]
    },
    {
     "ename": "IndexError",
     "evalue": "list index out of range",
     "output_type": "error",
     "traceback": [
      "\u001b[0;31m---------------------------------------------------------------------------\u001b[0m",
      "\u001b[0;31mIndexError\u001b[0m                                Traceback (most recent call last)",
      "\u001b[0;32m<ipython-input-179-7b903ce8faea>\u001b[0m in \u001b[0;36m<module>\u001b[0;34m()\u001b[0m\n\u001b[1;32m     20\u001b[0m \u001b[0mprint\u001b[0m\u001b[0;34m(\u001b[0m\u001b[0;34m\"Test loss: {:.5f}\"\u001b[0m\u001b[0;34m.\u001b[0m\u001b[0mformat\u001b[0m\u001b[0;34m(\u001b[0m\u001b[0mscore\u001b[0m\u001b[0;34m[\u001b[0m\u001b[0;36m0\u001b[0m\u001b[0;34m]\u001b[0m\u001b[0;34m)\u001b[0m\u001b[0;34m)\u001b[0m\u001b[0;34m\u001b[0m\u001b[0m\n\u001b[1;32m     21\u001b[0m \u001b[0mprint\u001b[0m\u001b[0;34m(\u001b[0m\u001b[0;34m\"Test Precision: {:.5f}\"\u001b[0m\u001b[0;34m.\u001b[0m\u001b[0mformat\u001b[0m\u001b[0;34m(\u001b[0m\u001b[0mscore\u001b[0m\u001b[0;34m[\u001b[0m\u001b[0;36m1\u001b[0m\u001b[0;34m]\u001b[0m\u001b[0;34m)\u001b[0m\u001b[0;34m)\u001b[0m\u001b[0;34m\u001b[0m\u001b[0m\n\u001b[0;32m---> 22\u001b[0;31m \u001b[0mprint\u001b[0m\u001b[0;34m(\u001b[0m\u001b[0;34m\"Test Recall: {:.5f}\"\u001b[0m\u001b[0;34m.\u001b[0m\u001b[0mformat\u001b[0m\u001b[0;34m(\u001b[0m\u001b[0mscore\u001b[0m\u001b[0;34m[\u001b[0m\u001b[0;36m2\u001b[0m\u001b[0;34m]\u001b[0m\u001b[0;34m)\u001b[0m\u001b[0;34m)\u001b[0m\u001b[0;34m\u001b[0m\u001b[0m\n\u001b[0m",
      "\u001b[0;31mIndexError\u001b[0m: list index out of range"
     ]
    }
   ],
   "source": [
    "# THIS ONE HAS THE BEST\n",
    "\n",
    "X_train.shape\n",
    "\n",
    "model_dropout = Sequential([\n",
    "    Dense(1024, input_shape=(7045,), activation='relu'),\n",
    "    Dropout(.5),\n",
    "    Dense(1024, activation='relu'),\n",
    "    Dropout(.5),\n",
    "    Dense(1024, activation='relu'),\n",
    "    Dropout(.5),\n",
    "    Dense(1024, activation='relu'),\n",
    "    Dropout(.5),\n",
    "    Dense(1, activation='sigmoid'),\n",
    "])\n",
    "\n",
    "import keras_metrics\n",
    "model_dropout.compile(\"adam\", \"binary_crossentropy\", metrics=['accuracy'])\n",
    "history_dropout = model_dropout.fit(X_train, y_train, batch_size=128, epochs=20, verbose=1, validation_split=.1)\n",
    "\n",
    "score = model_dropout.evaluate(X_test, y_test, verbose=0)\n",
    "print(\"Test loss: {:.5f}\".format(score[0]))\n",
    "print(\"Test Precision: {:.5f}\".format(score[1]))\n",
    "print(\"Test Recall: {:.5f}\".format(score[2]))"
   ]
  },
  {
   "cell_type": "code",
   "execution_count": null,
   "metadata": {
    "collapsed": true
   },
   "outputs": [],
   "source": []
  },
  {
   "cell_type": "code",
   "execution_count": null,
   "metadata": {
    "collapsed": true
   },
   "outputs": [],
   "source": []
  },
  {
   "cell_type": "code",
   "execution_count": null,
   "metadata": {
    "collapsed": true
   },
   "outputs": [],
   "source": []
  },
  {
   "cell_type": "code",
   "execution_count": 280,
   "metadata": {
    "collapsed": true
   },
   "outputs": [],
   "source": [
    "train = pd.read_csv('/Users/atru/Desktop/kaggle/dataset/Phase 1 - similarityCompetition/train.csv')\n",
    "test = pd.read_csv('/Users/atru/Desktop/kaggle/dataset/Phase 1 - similarityCompetition/test.csv')"
   ]
  },
  {
   "cell_type": "code",
   "execution_count": 282,
   "metadata": {
    "collapsed": true
   },
   "outputs": [],
   "source": [
    "X = train[['description_x', 'description_y']]\n",
    "y = train[['same_security']]\n",
    "\n",
    "vec_X = TfidfVectorizer(encoding='utf-8')\n",
    "X_X = vec_X.fit_transform(X['description_x'].values.astype('U'))\n",
    "\n",
    "\n",
    "vec_Y = TfidfVectorizer(encoding='utf-8')\n",
    "X_Y = vec_X.fit_transform(X['description_y'].values.astype('U'))\n",
    "\n",
    "\n",
    "X_concat = hstack([X_X, X_Y])\n",
    "\n",
    "X_train_all = X_concat.tocsr()"
   ]
  },
  {
   "cell_type": "code",
   "execution_count": 283,
   "metadata": {},
   "outputs": [
    {
     "data": {
      "text/plain": [
       "(2142, 2823)"
      ]
     },
     "execution_count": 283,
     "metadata": {},
     "output_type": "execute_result"
    }
   ],
   "source": [
    "X_train_all.shape"
   ]
  },
  {
   "cell_type": "code",
   "execution_count": 284,
   "metadata": {
    "collapsed": true
   },
   "outputs": [],
   "source": [
    "X_train, X_val, y_train, y_val = train_test_split(X_train_all, y, random_state=1)"
   ]
  },
  {
   "cell_type": "code",
   "execution_count": null,
   "metadata": {
    "collapsed": true
   },
   "outputs": [],
   "source": []
  },
  {
   "cell_type": "code",
   "execution_count": 285,
   "metadata": {},
   "outputs": [
    {
     "data": {
      "text/plain": [
       "0.8992537313432836"
      ]
     },
     "execution_count": 285,
     "metadata": {},
     "output_type": "execute_result"
    }
   ],
   "source": [
    "from sklearn import tree\n",
    "clf = tree.DecisionTreeClassifier()\n",
    "clf.fit(X_train, y_train)  \n",
    "clf.score(X_val, y_val)"
   ]
  },
  {
   "cell_type": "code",
   "execution_count": null,
   "metadata": {
    "collapsed": true
   },
   "outputs": [],
   "source": []
  },
  {
   "cell_type": "markdown",
   "metadata": {},
   "source": [
    "Levechstein Distance"
   ]
  },
  {
   "cell_type": "code",
   "execution_count": 12,
   "metadata": {
    "collapsed": true
   },
   "outputs": [],
   "source": [
    "def levenshtein(s1, s2):\n",
    "    if len(s1) < len(s2):\n",
    "        return levenshtein(s2, s1)\n",
    "\n",
    "    # len(s1) >= len(s2)\n",
    "    if len(s2) == 0:\n",
    "        return len(s1)\n",
    "\n",
    "    previous_row = range(len(s2) + 1)\n",
    "    for i, c1 in enumerate(s1):\n",
    "        current_row = [i + 1]\n",
    "        for j, c2 in enumerate(s2):\n",
    "            insertions = previous_row[j + 1] + 1 # j+1 instead of j since previous_row and current_row are one character longer\n",
    "            deletions = current_row[j] + 1       # than s2\n",
    "            substitutions = previous_row[j] + (c1 != c2)\n",
    "            current_row.append(min(insertions, deletions, substitutions))\n",
    "        previous_row = current_row\n",
    "    \n",
    "    return previous_row[-1]/len(s1 + s2)"
   ]
  },
  {
   "cell_type": "code",
   "execution_count": 13,
   "metadata": {
    "collapsed": true
   },
   "outputs": [],
   "source": [
    "X['lev_distance'] = ''"
   ]
  },
  {
   "cell_type": "code",
   "execution_count": 14,
   "metadata": {
    "collapsed": true
   },
   "outputs": [],
   "source": [
    "for i in range(0, len(X)):\n",
    "    X['lev_distance'][i] = levenshtein(X['description_x'][i], X['description_y'][i])"
   ]
  },
  {
   "cell_type": "code",
   "execution_count": 279,
   "metadata": {},
   "outputs": [
    {
     "data": {
      "text/html": [
       "<div>\n",
       "<style>\n",
       "    .dataframe thead tr:only-child th {\n",
       "        text-align: right;\n",
       "    }\n",
       "\n",
       "    .dataframe thead th {\n",
       "        text-align: left;\n",
       "    }\n",
       "\n",
       "    .dataframe tbody tr th {\n",
       "        vertical-align: top;\n",
       "    }\n",
       "</style>\n",
       "<table border=\"1\" class=\"dataframe\">\n",
       "  <thead>\n",
       "    <tr style=\"text-align: right;\">\n",
       "      <th></th>\n",
       "      <th>description_x</th>\n",
       "      <th>description_y</th>\n",
       "    </tr>\n",
       "  </thead>\n",
       "  <tbody>\n",
       "    <tr>\n",
       "      <th>0</th>\n",
       "      <td></td>\n",
       "      <td>index</td>\n",
       "    </tr>\n",
       "    <tr>\n",
       "      <th>1</th>\n",
       "      <td>company</td>\n",
       "      <td>strategic tr fundamental corporation</td>\n",
       "    </tr>\n",
       "    <tr>\n",
       "      <th>2</th>\n",
       "      <td>adm</td>\n",
       "      <td>fund institutional</td>\n",
       "    </tr>\n",
       "    <tr>\n",
       "      <th>3</th>\n",
       "      <td>new us4 b7jzsk0</td>\n",
       "      <td>new us26441c2044 b7jzs</td>\n",
       "    </tr>\n",
       "    <tr>\n",
       "      <th>4</th>\n",
       "      <td>class a</td>\n",
       "      <td></td>\n",
       "    </tr>\n",
       "    <tr>\n",
       "      <th>5</th>\n",
       "      <td>new div 0600</td>\n",
       "      <td></td>\n",
       "    </tr>\n",
       "    <tr>\n",
       "      <th>6</th>\n",
       "      <td>steel</td>\n",
       "      <td>stl new</td>\n",
       "    </tr>\n",
       "    <tr>\n",
       "      <th>7</th>\n",
       "      <td></td>\n",
       "      <td></td>\n",
       "    </tr>\n",
       "    <tr>\n",
       "      <th>8</th>\n",
       "      <td>smallcap</td>\n",
       "      <td>small cap</td>\n",
       "    </tr>\n",
       "    <tr>\n",
       "      <th>9</th>\n",
       "      <td></td>\n",
       "      <td></td>\n",
       "    </tr>\n",
       "    <tr>\n",
       "      <th>10</th>\n",
       "      <td>dev markets</td>\n",
       "      <td>developing mkts fund</td>\n",
       "    </tr>\n",
       "    <tr>\n",
       "      <th>11</th>\n",
       "      <td></td>\n",
       "      <td>corporation cmn</td>\n",
       "    </tr>\n",
       "    <tr>\n",
       "      <th>12</th>\n",
       "      <td>etf</td>\n",
       "      <td>capital trea</td>\n",
       "    </tr>\n",
       "    <tr>\n",
       "      <th>13</th>\n",
       "      <td>company</td>\n",
       "      <td>corporation corporationm</td>\n",
       "    </tr>\n",
       "    <tr>\n",
       "      <th>14</th>\n",
       "      <td>fund admiral shares</td>\n",
       "      <td>instl pls</td>\n",
       "    </tr>\n",
       "    <tr>\n",
       "      <th>15</th>\n",
       "      <td>intermediateterm investmentgrade fund investor...</td>\n",
       "      <td>intermterm investmentmtgrade investment</td>\n",
       "    </tr>\n",
       "    <tr>\n",
       "      <th>16</th>\n",
       "      <td></td>\n",
       "      <td>rep a</td>\n",
       "    </tr>\n",
       "    <tr>\n",
       "      <th>17</th>\n",
       "      <td>reg</td>\n",
       "      <td></td>\n",
       "    </tr>\n",
       "    <tr>\n",
       "      <th>18</th>\n",
       "      <td></td>\n",
       "      <td>cmn</td>\n",
       "    </tr>\n",
       "    <tr>\n",
       "      <th>19</th>\n",
       "      <td>markets admiral</td>\n",
       "      <td>mkt investor</td>\n",
       "    </tr>\n",
       "  </tbody>\n",
       "</table>\n",
       "</div>"
      ],
      "text/plain": [
       "                                        description_x  \\\n",
       "0                                                       \n",
       "1                                             company   \n",
       "2                                                 adm   \n",
       "3                                     new us4 b7jzsk0   \n",
       "4                                             class a   \n",
       "5                                        new div 0600   \n",
       "6                                               steel   \n",
       "7                                                       \n",
       "8                                            smallcap   \n",
       "9                                                       \n",
       "10                                        dev markets   \n",
       "11                                                      \n",
       "12                                                etf   \n",
       "13                                            company   \n",
       "14                                fund admiral shares   \n",
       "15  intermediateterm investmentgrade fund investor...   \n",
       "16                                                      \n",
       "17                                                reg   \n",
       "18                                                      \n",
       "19                                    markets admiral   \n",
       "\n",
       "                              description_y  \n",
       "0                                     index  \n",
       "1      strategic tr fundamental corporation  \n",
       "2                        fund institutional  \n",
       "3                    new us26441c2044 b7jzs  \n",
       "4                                            \n",
       "5                                            \n",
       "6                                   stl new  \n",
       "7                                            \n",
       "8                                 small cap  \n",
       "9                                            \n",
       "10                     developing mkts fund  \n",
       "11                          corporation cmn  \n",
       "12                             capital trea  \n",
       "13                 corporation corporationm  \n",
       "14                                instl pls  \n",
       "15  intermterm investmentmtgrade investment  \n",
       "16                                    rep a  \n",
       "17                                           \n",
       "18                                      cmn  \n",
       "19                             mkt investor  "
      ]
     },
     "execution_count": 279,
     "metadata": {},
     "output_type": "execute_result"
    }
   ],
   "source": [
    "X.head(20)"
   ]
  },
  {
   "cell_type": "code",
   "execution_count": 91,
   "metadata": {
    "collapsed": true
   },
   "outputs": [],
   "source": [
    "X['pred'] = ''"
   ]
  },
  {
   "cell_type": "code",
   "execution_count": 92,
   "metadata": {
    "collapsed": true
   },
   "outputs": [],
   "source": [
    "X_train, X_test, y_train, y_test = train_test_split(X, y, random_state=0)"
   ]
  },
  {
   "cell_type": "code",
   "execution_count": 14,
   "metadata": {
    "collapsed": true
   },
   "outputs": [],
   "source": [
    "cutoff_bracket = [10]\n"
   ]
  },
  {
   "cell_type": "code",
   "execution_count": 15,
   "metadata": {
    "scrolled": true
   },
   "outputs": [
    {
     "ename": "KeyError",
     "evalue": "'lev_distance'",
     "output_type": "error",
     "traceback": [
      "\u001b[0;31m---------------------------------------------------------------------------\u001b[0m",
      "\u001b[0;31mKeyError\u001b[0m                                  Traceback (most recent call last)",
      "\u001b[0;32m/Users/atru/anaconda/lib/python3.6/site-packages/pandas/core/indexes/base.py\u001b[0m in \u001b[0;36mget_loc\u001b[0;34m(self, key, method, tolerance)\u001b[0m\n\u001b[1;32m   2392\u001b[0m             \u001b[0;32mtry\u001b[0m\u001b[0;34m:\u001b[0m\u001b[0;34m\u001b[0m\u001b[0m\n\u001b[0;32m-> 2393\u001b[0;31m                 \u001b[0;32mreturn\u001b[0m \u001b[0mself\u001b[0m\u001b[0;34m.\u001b[0m\u001b[0m_engine\u001b[0m\u001b[0;34m.\u001b[0m\u001b[0mget_loc\u001b[0m\u001b[0;34m(\u001b[0m\u001b[0mkey\u001b[0m\u001b[0;34m)\u001b[0m\u001b[0;34m\u001b[0m\u001b[0m\n\u001b[0m\u001b[1;32m   2394\u001b[0m             \u001b[0;32mexcept\u001b[0m \u001b[0mKeyError\u001b[0m\u001b[0;34m:\u001b[0m\u001b[0;34m\u001b[0m\u001b[0m\n",
      "\u001b[0;32mpandas/_libs/index.pyx\u001b[0m in \u001b[0;36mpandas._libs.index.IndexEngine.get_loc (pandas/_libs/index.c:5239)\u001b[0;34m()\u001b[0m\n",
      "\u001b[0;32mpandas/_libs/index.pyx\u001b[0m in \u001b[0;36mpandas._libs.index.IndexEngine.get_loc (pandas/_libs/index.c:5085)\u001b[0;34m()\u001b[0m\n",
      "\u001b[0;32mpandas/_libs/hashtable_class_helper.pxi\u001b[0m in \u001b[0;36mpandas._libs.hashtable.PyObjectHashTable.get_item (pandas/_libs/hashtable.c:20405)\u001b[0;34m()\u001b[0m\n",
      "\u001b[0;32mpandas/_libs/hashtable_class_helper.pxi\u001b[0m in \u001b[0;36mpandas._libs.hashtable.PyObjectHashTable.get_item (pandas/_libs/hashtable.c:20359)\u001b[0;34m()\u001b[0m\n",
      "\u001b[0;31mKeyError\u001b[0m: 'lev_distance'",
      "\nDuring handling of the above exception, another exception occurred:\n",
      "\u001b[0;31mKeyError\u001b[0m                                  Traceback (most recent call last)",
      "\u001b[0;32m<ipython-input-15-7beec6228394>\u001b[0m in \u001b[0;36m<module>\u001b[0;34m()\u001b[0m\n\u001b[0;32m----> 1\u001b[0;31m \u001b[0mX_train\u001b[0m\u001b[0;34m[\u001b[0m\u001b[0;34m'lev_distance'\u001b[0m\u001b[0;34m]\u001b[0m\u001b[0;34m[\u001b[0m\u001b[0;36m0\u001b[0m\u001b[0;34m]\u001b[0m\u001b[0;34m\u001b[0m\u001b[0m\n\u001b[0m",
      "\u001b[0;32m/Users/atru/anaconda/lib/python3.6/site-packages/pandas/core/frame.py\u001b[0m in \u001b[0;36m__getitem__\u001b[0;34m(self, key)\u001b[0m\n\u001b[1;32m   2060\u001b[0m             \u001b[0;32mreturn\u001b[0m \u001b[0mself\u001b[0m\u001b[0;34m.\u001b[0m\u001b[0m_getitem_multilevel\u001b[0m\u001b[0;34m(\u001b[0m\u001b[0mkey\u001b[0m\u001b[0;34m)\u001b[0m\u001b[0;34m\u001b[0m\u001b[0m\n\u001b[1;32m   2061\u001b[0m         \u001b[0;32melse\u001b[0m\u001b[0;34m:\u001b[0m\u001b[0;34m\u001b[0m\u001b[0m\n\u001b[0;32m-> 2062\u001b[0;31m             \u001b[0;32mreturn\u001b[0m \u001b[0mself\u001b[0m\u001b[0;34m.\u001b[0m\u001b[0m_getitem_column\u001b[0m\u001b[0;34m(\u001b[0m\u001b[0mkey\u001b[0m\u001b[0;34m)\u001b[0m\u001b[0;34m\u001b[0m\u001b[0m\n\u001b[0m\u001b[1;32m   2063\u001b[0m \u001b[0;34m\u001b[0m\u001b[0m\n\u001b[1;32m   2064\u001b[0m     \u001b[0;32mdef\u001b[0m \u001b[0m_getitem_column\u001b[0m\u001b[0;34m(\u001b[0m\u001b[0mself\u001b[0m\u001b[0;34m,\u001b[0m \u001b[0mkey\u001b[0m\u001b[0;34m)\u001b[0m\u001b[0;34m:\u001b[0m\u001b[0;34m\u001b[0m\u001b[0m\n",
      "\u001b[0;32m/Users/atru/anaconda/lib/python3.6/site-packages/pandas/core/frame.py\u001b[0m in \u001b[0;36m_getitem_column\u001b[0;34m(self, key)\u001b[0m\n\u001b[1;32m   2067\u001b[0m         \u001b[0;31m# get column\u001b[0m\u001b[0;34m\u001b[0m\u001b[0;34m\u001b[0m\u001b[0m\n\u001b[1;32m   2068\u001b[0m         \u001b[0;32mif\u001b[0m \u001b[0mself\u001b[0m\u001b[0;34m.\u001b[0m\u001b[0mcolumns\u001b[0m\u001b[0;34m.\u001b[0m\u001b[0mis_unique\u001b[0m\u001b[0;34m:\u001b[0m\u001b[0;34m\u001b[0m\u001b[0m\n\u001b[0;32m-> 2069\u001b[0;31m             \u001b[0;32mreturn\u001b[0m \u001b[0mself\u001b[0m\u001b[0;34m.\u001b[0m\u001b[0m_get_item_cache\u001b[0m\u001b[0;34m(\u001b[0m\u001b[0mkey\u001b[0m\u001b[0;34m)\u001b[0m\u001b[0;34m\u001b[0m\u001b[0m\n\u001b[0m\u001b[1;32m   2070\u001b[0m \u001b[0;34m\u001b[0m\u001b[0m\n\u001b[1;32m   2071\u001b[0m         \u001b[0;31m# duplicate columns & possible reduce dimensionality\u001b[0m\u001b[0;34m\u001b[0m\u001b[0;34m\u001b[0m\u001b[0m\n",
      "\u001b[0;32m/Users/atru/anaconda/lib/python3.6/site-packages/pandas/core/generic.py\u001b[0m in \u001b[0;36m_get_item_cache\u001b[0;34m(self, item)\u001b[0m\n\u001b[1;32m   1532\u001b[0m         \u001b[0mres\u001b[0m \u001b[0;34m=\u001b[0m \u001b[0mcache\u001b[0m\u001b[0;34m.\u001b[0m\u001b[0mget\u001b[0m\u001b[0;34m(\u001b[0m\u001b[0mitem\u001b[0m\u001b[0;34m)\u001b[0m\u001b[0;34m\u001b[0m\u001b[0m\n\u001b[1;32m   1533\u001b[0m         \u001b[0;32mif\u001b[0m \u001b[0mres\u001b[0m \u001b[0;32mis\u001b[0m \u001b[0;32mNone\u001b[0m\u001b[0;34m:\u001b[0m\u001b[0;34m\u001b[0m\u001b[0m\n\u001b[0;32m-> 1534\u001b[0;31m             \u001b[0mvalues\u001b[0m \u001b[0;34m=\u001b[0m \u001b[0mself\u001b[0m\u001b[0;34m.\u001b[0m\u001b[0m_data\u001b[0m\u001b[0;34m.\u001b[0m\u001b[0mget\u001b[0m\u001b[0;34m(\u001b[0m\u001b[0mitem\u001b[0m\u001b[0;34m)\u001b[0m\u001b[0;34m\u001b[0m\u001b[0m\n\u001b[0m\u001b[1;32m   1535\u001b[0m             \u001b[0mres\u001b[0m \u001b[0;34m=\u001b[0m \u001b[0mself\u001b[0m\u001b[0;34m.\u001b[0m\u001b[0m_box_item_values\u001b[0m\u001b[0;34m(\u001b[0m\u001b[0mitem\u001b[0m\u001b[0;34m,\u001b[0m \u001b[0mvalues\u001b[0m\u001b[0;34m)\u001b[0m\u001b[0;34m\u001b[0m\u001b[0m\n\u001b[1;32m   1536\u001b[0m             \u001b[0mcache\u001b[0m\u001b[0;34m[\u001b[0m\u001b[0mitem\u001b[0m\u001b[0;34m]\u001b[0m \u001b[0;34m=\u001b[0m \u001b[0mres\u001b[0m\u001b[0;34m\u001b[0m\u001b[0m\n",
      "\u001b[0;32m/Users/atru/anaconda/lib/python3.6/site-packages/pandas/core/internals.py\u001b[0m in \u001b[0;36mget\u001b[0;34m(self, item, fastpath)\u001b[0m\n\u001b[1;32m   3588\u001b[0m \u001b[0;34m\u001b[0m\u001b[0m\n\u001b[1;32m   3589\u001b[0m             \u001b[0;32mif\u001b[0m \u001b[0;32mnot\u001b[0m \u001b[0misnull\u001b[0m\u001b[0;34m(\u001b[0m\u001b[0mitem\u001b[0m\u001b[0;34m)\u001b[0m\u001b[0;34m:\u001b[0m\u001b[0;34m\u001b[0m\u001b[0m\n\u001b[0;32m-> 3590\u001b[0;31m                 \u001b[0mloc\u001b[0m \u001b[0;34m=\u001b[0m \u001b[0mself\u001b[0m\u001b[0;34m.\u001b[0m\u001b[0mitems\u001b[0m\u001b[0;34m.\u001b[0m\u001b[0mget_loc\u001b[0m\u001b[0;34m(\u001b[0m\u001b[0mitem\u001b[0m\u001b[0;34m)\u001b[0m\u001b[0;34m\u001b[0m\u001b[0m\n\u001b[0m\u001b[1;32m   3591\u001b[0m             \u001b[0;32melse\u001b[0m\u001b[0;34m:\u001b[0m\u001b[0;34m\u001b[0m\u001b[0m\n\u001b[1;32m   3592\u001b[0m                 \u001b[0mindexer\u001b[0m \u001b[0;34m=\u001b[0m \u001b[0mnp\u001b[0m\u001b[0;34m.\u001b[0m\u001b[0marange\u001b[0m\u001b[0;34m(\u001b[0m\u001b[0mlen\u001b[0m\u001b[0;34m(\u001b[0m\u001b[0mself\u001b[0m\u001b[0;34m.\u001b[0m\u001b[0mitems\u001b[0m\u001b[0;34m)\u001b[0m\u001b[0;34m)\u001b[0m\u001b[0;34m[\u001b[0m\u001b[0misnull\u001b[0m\u001b[0;34m(\u001b[0m\u001b[0mself\u001b[0m\u001b[0;34m.\u001b[0m\u001b[0mitems\u001b[0m\u001b[0;34m)\u001b[0m\u001b[0;34m]\u001b[0m\u001b[0;34m\u001b[0m\u001b[0m\n",
      "\u001b[0;32m/Users/atru/anaconda/lib/python3.6/site-packages/pandas/core/indexes/base.py\u001b[0m in \u001b[0;36mget_loc\u001b[0;34m(self, key, method, tolerance)\u001b[0m\n\u001b[1;32m   2393\u001b[0m                 \u001b[0;32mreturn\u001b[0m \u001b[0mself\u001b[0m\u001b[0;34m.\u001b[0m\u001b[0m_engine\u001b[0m\u001b[0;34m.\u001b[0m\u001b[0mget_loc\u001b[0m\u001b[0;34m(\u001b[0m\u001b[0mkey\u001b[0m\u001b[0;34m)\u001b[0m\u001b[0;34m\u001b[0m\u001b[0m\n\u001b[1;32m   2394\u001b[0m             \u001b[0;32mexcept\u001b[0m \u001b[0mKeyError\u001b[0m\u001b[0;34m:\u001b[0m\u001b[0;34m\u001b[0m\u001b[0m\n\u001b[0;32m-> 2395\u001b[0;31m                 \u001b[0;32mreturn\u001b[0m \u001b[0mself\u001b[0m\u001b[0;34m.\u001b[0m\u001b[0m_engine\u001b[0m\u001b[0;34m.\u001b[0m\u001b[0mget_loc\u001b[0m\u001b[0;34m(\u001b[0m\u001b[0mself\u001b[0m\u001b[0;34m.\u001b[0m\u001b[0m_maybe_cast_indexer\u001b[0m\u001b[0;34m(\u001b[0m\u001b[0mkey\u001b[0m\u001b[0;34m)\u001b[0m\u001b[0;34m)\u001b[0m\u001b[0;34m\u001b[0m\u001b[0m\n\u001b[0m\u001b[1;32m   2396\u001b[0m \u001b[0;34m\u001b[0m\u001b[0m\n\u001b[1;32m   2397\u001b[0m         \u001b[0mindexer\u001b[0m \u001b[0;34m=\u001b[0m \u001b[0mself\u001b[0m\u001b[0;34m.\u001b[0m\u001b[0mget_indexer\u001b[0m\u001b[0;34m(\u001b[0m\u001b[0;34m[\u001b[0m\u001b[0mkey\u001b[0m\u001b[0;34m]\u001b[0m\u001b[0;34m,\u001b[0m \u001b[0mmethod\u001b[0m\u001b[0;34m=\u001b[0m\u001b[0mmethod\u001b[0m\u001b[0;34m,\u001b[0m \u001b[0mtolerance\u001b[0m\u001b[0;34m=\u001b[0m\u001b[0mtolerance\u001b[0m\u001b[0;34m)\u001b[0m\u001b[0;34m\u001b[0m\u001b[0m\n",
      "\u001b[0;32mpandas/_libs/index.pyx\u001b[0m in \u001b[0;36mpandas._libs.index.IndexEngine.get_loc (pandas/_libs/index.c:5239)\u001b[0;34m()\u001b[0m\n",
      "\u001b[0;32mpandas/_libs/index.pyx\u001b[0m in \u001b[0;36mpandas._libs.index.IndexEngine.get_loc (pandas/_libs/index.c:5085)\u001b[0;34m()\u001b[0m\n",
      "\u001b[0;32mpandas/_libs/hashtable_class_helper.pxi\u001b[0m in \u001b[0;36mpandas._libs.hashtable.PyObjectHashTable.get_item (pandas/_libs/hashtable.c:20405)\u001b[0;34m()\u001b[0m\n",
      "\u001b[0;32mpandas/_libs/hashtable_class_helper.pxi\u001b[0m in \u001b[0;36mpandas._libs.hashtable.PyObjectHashTable.get_item (pandas/_libs/hashtable.c:20359)\u001b[0;34m()\u001b[0m\n",
      "\u001b[0;31mKeyError\u001b[0m: 'lev_distance'"
     ]
    }
   ],
   "source": [
    "X_train['lev_distance'][0]"
   ]
  },
  {
   "cell_type": "code",
   "execution_count": 281,
   "metadata": {
    "collapsed": true
   },
   "outputs": [],
   "source": [
    "temp = pd.merge(X_train, train, how = 'inner')"
   ]
  },
  {
   "cell_type": "code",
   "execution_count": 301,
   "metadata": {},
   "outputs": [
    {
     "data": {
      "text/plain": [
       "0.43088418430884184"
      ]
     },
     "execution_count": 301,
     "metadata": {},
     "output_type": "execute_result"
    }
   ],
   "source": [
    "len(temp[(temp['lev_distance'] < 0.6) & (temp['same_security'] == True)])/len(X_train)"
   ]
  },
  {
   "cell_type": "code",
   "execution_count": 325,
   "metadata": {
    "scrolled": true
   },
   "outputs": [
    {
     "data": {
      "text/html": [
       "<div>\n",
       "<style>\n",
       "    .dataframe thead tr:only-child th {\n",
       "        text-align: right;\n",
       "    }\n",
       "\n",
       "    .dataframe thead th {\n",
       "        text-align: left;\n",
       "    }\n",
       "\n",
       "    .dataframe tbody tr th {\n",
       "        vertical-align: top;\n",
       "    }\n",
       "</style>\n",
       "<table border=\"1\" class=\"dataframe\">\n",
       "  <thead>\n",
       "    <tr style=\"text-align: right;\">\n",
       "      <th></th>\n",
       "      <th>description_x</th>\n",
       "      <th>description_y</th>\n",
       "      <th>lev_distance</th>\n",
       "      <th>pred</th>\n",
       "    </tr>\n",
       "  </thead>\n",
       "  <tbody>\n",
       "    <tr>\n",
       "      <th>1217</th>\n",
       "      <td>google inc cl a</td>\n",
       "      <td>google inc class a</td>\n",
       "      <td>0.0909091</td>\n",
       "      <td></td>\n",
       "    </tr>\n",
       "    <tr>\n",
       "      <th>927</th>\n",
       "      <td>enterprise prods partners l com</td>\n",
       "      <td>enterprise prods partners l unit</td>\n",
       "      <td>0.0634921</td>\n",
       "      <td></td>\n",
       "    </tr>\n",
       "    <tr>\n",
       "      <th>1656</th>\n",
       "      <td>facebook inc</td>\n",
       "      <td>facebook inc class a common stock</td>\n",
       "      <td>0.466667</td>\n",
       "      <td></td>\n",
       "    </tr>\n",
       "    <tr>\n",
       "      <th>5</th>\n",
       "      <td>ford motor co new div 0600</td>\n",
       "      <td>ford motor co</td>\n",
       "      <td>0.333333</td>\n",
       "      <td></td>\n",
       "    </tr>\n",
       "    <tr>\n",
       "      <th>58</th>\n",
       "      <td>vereit inc com</td>\n",
       "      <td>vereit inc reit</td>\n",
       "      <td>0.137931</td>\n",
       "      <td></td>\n",
       "    </tr>\n",
       "  </tbody>\n",
       "</table>\n",
       "</div>"
      ],
      "text/plain": [
       "                        description_x                      description_y  \\\n",
       "1217                  google inc cl a                 google inc class a   \n",
       "927   enterprise prods partners l com   enterprise prods partners l unit   \n",
       "1656                     facebook inc  facebook inc class a common stock   \n",
       "5          ford motor co new div 0600                      ford motor co   \n",
       "58                     vereit inc com                    vereit inc reit   \n",
       "\n",
       "     lev_distance pred  \n",
       "1217    0.0909091       \n",
       "927     0.0634921       \n",
       "1656     0.466667       \n",
       "5        0.333333       \n",
       "58       0.137931       "
      ]
     },
     "execution_count": 325,
     "metadata": {},
     "output_type": "execute_result"
    }
   ],
   "source": [
    "X_train.head()"
   ]
  },
  {
   "cell_type": "markdown",
   "metadata": {
    "collapsed": true
   },
   "source": [
    "Cleaning up everything"
   ]
  },
  {
   "cell_type": "code",
   "execution_count": 296,
   "metadata": {
    "collapsed": true
   },
   "outputs": [],
   "source": [
    "train = pd.read_csv('/Users/atru/Desktop/kaggle/dataset/Phase 1 - similarityCompetition/train.csv')\n",
    "test = pd.read_csv('/Users/atru/Desktop/kaggle/dataset/Phase 1 - similarityCompetition/test.csv')"
   ]
  },
  {
   "cell_type": "code",
   "execution_count": 323,
   "metadata": {
    "collapsed": true
   },
   "outputs": [],
   "source": [
    "X = train[['description_x', 'description_y']].append(test[['description_x', 'description_y']])"
   ]
  },
  {
   "cell_type": "code",
   "execution_count": 325,
   "metadata": {
    "scrolled": true
   },
   "outputs": [
    {
     "data": {
      "text/plain": [
       "2658"
      ]
     },
     "execution_count": 325,
     "metadata": {},
     "output_type": "execute_result"
    }
   ],
   "source": [
    "len(X)"
   ]
  },
  {
   "cell_type": "code",
   "execution_count": 326,
   "metadata": {},
   "outputs": [
    {
     "data": {
      "text/plain": [
       "2142"
      ]
     },
     "execution_count": 326,
     "metadata": {},
     "output_type": "execute_result"
    }
   ],
   "source": [
    "len(train)"
   ]
  },
  {
   "cell_type": "code",
   "execution_count": 327,
   "metadata": {},
   "outputs": [
    {
     "data": {
      "text/plain": [
       "516"
      ]
     },
     "execution_count": 327,
     "metadata": {},
     "output_type": "execute_result"
    }
   ],
   "source": [
    "len(test)"
   ]
  },
  {
   "cell_type": "code",
   "execution_count": 328,
   "metadata": {
    "collapsed": true
   },
   "outputs": [],
   "source": [
    "bank = pd.read_csv('/Users/atru/Desktop/kaggle/wordbank.csv')\n",
    "mapping = pd.melt(bank, id_vars=['Root word'])"
   ]
  },
  {
   "cell_type": "code",
   "execution_count": 329,
   "metadata": {
    "collapsed": true,
    "scrolled": true
   },
   "outputs": [],
   "source": [
    "mapping = mapping.dropna()\n",
    "mapping = mapping[['Root word', 'value']]"
   ]
  },
  {
   "cell_type": "code",
   "execution_count": 330,
   "metadata": {
    "collapsed": true
   },
   "outputs": [],
   "source": [
    "map_dict = mapping.set_index('value').to_dict()\n",
    "map_dict = map_dict['Root word']\n",
    "map_dict = {k.lower(): v for k, v in map_dict.items()}"
   ]
  },
  {
   "cell_type": "code",
   "execution_count": 331,
   "metadata": {
    "collapsed": true
   },
   "outputs": [],
   "source": [
    "# >1 char dict:\n",
    "multiple_char_dict = {k:v for (k,v) in map_dict.items() if ' ' in k}"
   ]
  },
  {
   "cell_type": "code",
   "execution_count": 332,
   "metadata": {
    "scrolled": false
   },
   "outputs": [
    {
     "data": {
      "text/plain": [
       "{'ampco pittsburgh': 'ampcopittsburgh',\n",
       " 'bp plc': 'bpplc',\n",
       " 'mid cap': 'mid-cap',\n",
       " 'short term': 'Short-term',\n",
       " 'sm cap': 'small-cap',\n",
       " 'small cap': 'small-cap',\n",
       " 't. rowe price': 't rowe price',\n",
       " 'tax exempt': 'tax-exempt'}"
      ]
     },
     "execution_count": 332,
     "metadata": {},
     "output_type": "execute_result"
    }
   ],
   "source": [
    "multiple_char_dict"
   ]
  },
  {
   "cell_type": "code",
   "execution_count": 336,
   "metadata": {
    "collapsed": true
   },
   "outputs": [],
   "source": [
    "X = X.reset_index()"
   ]
  },
  {
   "cell_type": "code",
   "execution_count": 337,
   "metadata": {
    "collapsed": true,
    "scrolled": true
   },
   "outputs": [],
   "source": [
    "#X = train[['description_x', 'description_y']]\n",
    "y = train[['same_security']]\n",
    "\n",
    "for i in range(0, len(X)):\n",
    "    for word in X['description_x'][i].split(' '):\n",
    "        if word.lower() in map_dict:\n",
    "            X['description_x'][i] = X['description_x'][i].replace(word, map_dict[word])\n",
    "\n",
    "for i in range(0, len(X)):\n",
    "    for word in X['description_y'][i].split(' '):\n",
    "        if word.lower() in map_dict:\n",
    "            X['description_y'][i] = X['description_y'][i].replace(word, map_dict[word])\n",
    "\n",
    "# replace multiple words\n",
    "\n",
    "for i in range(0, len(X)):\n",
    "    #print(i)\n",
    "    for (k,v) in multiple_char_dict.items():\n",
    "        if k in X['description_x'][i]:\n",
    "            #print(k)\n",
    "            X['description_x'][i] = X['description_x'][i].replace(k, multiple_char_dict[k])\n",
    "        if k in X['description_y'][i]:\n",
    "            #print(k)\n",
    "            X['description_x'][i] = X['description_y'][i].replace(k, multiple_char_dict[k])"
   ]
  },
  {
   "cell_type": "code",
   "execution_count": 353,
   "metadata": {
    "collapsed": true
   },
   "outputs": [],
   "source": [
    "# removing duplicate words\n",
    "    \n",
    "for k in range(0, len(X)):\n",
    "    text1 = X['description_x'][k]\n",
    "    text2 = X['description_y'][k]\n",
    "    list1 = text1.split(' ')\n",
    "    list2 = text2.split(' ')\n",
    "    remove_word = []\n",
    "    for i in range(0, len(list1)):\n",
    "        if list1[i] in list2:\n",
    "            remove_word.append(list1[i])\n",
    "    remove_word = list(set(remove_word))\n",
    "    if len(remove_word) > 0:\n",
    "        for j in range(0, len(remove_word)):    \n",
    "            list1.remove(remove_word[j])\n",
    "            list2.remove(remove_word[j])\n",
    "\n",
    "        list1=\" \".join(list1)\n",
    "        list2=\" \".join(list2)\n",
    "        X['description_x'][k] = list1\n",
    "        X['description_y'][k] = list2 "
   ]
  },
  {
   "cell_type": "code",
   "execution_count": 355,
   "metadata": {
    "collapsed": true
   },
   "outputs": [],
   "source": [
    "X[\"description_x\"] = X['description_x'].str.replace('[^\\w\\s]','')\n",
    "X[\"description_y\"] = X['description_y'].str.replace('[^\\w\\s]','')\n",
    "\n",
    "X[\"description_x\"] = X[\"description_x\"].str.lower()\n",
    "X[\"description_y\"] = X[\"description_y\"].str.lower()"
   ]
  },
  {
   "cell_type": "code",
   "execution_count": null,
   "metadata": {
    "collapsed": true
   },
   "outputs": [],
   "source": [
    "y = y.applymap(lambda x: 1 if x == True else x)\n",
    "y = y.applymap(lambda x: 0 if x == False else x)"
   ]
  },
  {
   "cell_type": "code",
   "execution_count": 372,
   "metadata": {
    "collapsed": true
   },
   "outputs": [],
   "source": [
    "y = y['same_security']"
   ]
  },
  {
   "cell_type": "code",
   "execution_count": 388,
   "metadata": {
    "collapsed": true
   },
   "outputs": [],
   "source": [
    "vec_X = TfidfVectorizer(ngram_range=(1, 4), encoding='utf-8', stop_words = 'english')\n",
    "X_X = vec_X.fit_transform(X['description_x'].values.astype('U'))\n",
    "\n",
    "\n",
    "vec_Y = TfidfVectorizer(ngram_range=(1, 4), encoding='utf-8', stop_words = 'english')\n",
    "X_Y = vec_Y.fit_transform(X['description_y'].values.astype('U'))"
   ]
  },
  {
   "cell_type": "code",
   "execution_count": 392,
   "metadata": {
    "collapsed": true
   },
   "outputs": [],
   "source": [
    "X_concat = hstack([X_X, X_Y])\n",
    "X_all = X_concat.tocsr()"
   ]
  },
  {
   "cell_type": "code",
   "execution_count": 394,
   "metadata": {},
   "outputs": [
    {
     "data": {
      "text/plain": [
       "<2658x7420 sparse matrix of type '<class 'numpy.float64'>'\n",
       "\twith 18954 stored elements in Compressed Sparse Row format>"
      ]
     },
     "execution_count": 394,
     "metadata": {},
     "output_type": "execute_result"
    }
   ],
   "source": [
    "X_all"
   ]
  },
  {
   "cell_type": "code",
   "execution_count": 395,
   "metadata": {
    "collapsed": true,
    "scrolled": true
   },
   "outputs": [],
   "source": [
    "X_train = X_all[0:2142]\n",
    "X_test = X_all[2142:]\n",
    "\n",
    "\n",
    "lr = LogisticRegressionCV().fit(X_train, y)"
   ]
  },
  {
   "cell_type": "code",
   "execution_count": 397,
   "metadata": {
    "scrolled": false
   },
   "outputs": [
    {
     "name": "stdout",
     "output_type": "stream",
     "text": [
      "Train on 1927 samples, validate on 215 samples\n",
      "Epoch 1/20\n",
      "1927/1927 [==============================] - 7s 4ms/step - loss: 0.5606 - acc: 0.7390 - val_loss: 0.4222 - val_acc: 0.7767\n",
      "Epoch 2/20\n",
      "1927/1927 [==============================] - 3s 2ms/step - loss: 0.3498 - acc: 0.7898 - val_loss: 0.3120 - val_acc: 0.9256\n",
      "Epoch 3/20\n",
      "1927/1927 [==============================] - 3s 2ms/step - loss: 0.1751 - acc: 0.9429 - val_loss: 0.3239 - val_acc: 0.9256\n",
      "Epoch 4/20\n",
      "1927/1927 [==============================] - 3s 2ms/step - loss: 0.1131 - acc: 0.9564 - val_loss: 0.2759 - val_acc: 0.9116\n",
      "Epoch 5/20\n",
      "1927/1927 [==============================] - 3s 2ms/step - loss: 0.0841 - acc: 0.9683 - val_loss: 0.3972 - val_acc: 0.9116\n",
      "Epoch 6/20\n",
      "1927/1927 [==============================] - 3s 2ms/step - loss: 0.0803 - acc: 0.9699 - val_loss: 0.3219 - val_acc: 0.9163\n",
      "Epoch 7/20\n",
      "1927/1927 [==============================] - 3s 2ms/step - loss: 0.0700 - acc: 0.9715 - val_loss: 0.3127 - val_acc: 0.9209\n",
      "Epoch 8/20\n",
      "1927/1927 [==============================] - 3s 2ms/step - loss: 0.0619 - acc: 0.9741 - val_loss: 0.3432 - val_acc: 0.9209\n",
      "Epoch 9/20\n",
      "1927/1927 [==============================] - 3s 2ms/step - loss: 0.0606 - acc: 0.9730 - val_loss: 0.3746 - val_acc: 0.9116\n",
      "Epoch 10/20\n",
      "1927/1927 [==============================] - 3s 2ms/step - loss: 0.0609 - acc: 0.9761 - val_loss: 0.3307 - val_acc: 0.9209\n",
      "Epoch 11/20\n",
      "1927/1927 [==============================] - 3s 2ms/step - loss: 0.0607 - acc: 0.9725 - val_loss: 0.3302 - val_acc: 0.9209\n",
      "Epoch 12/20\n",
      "1927/1927 [==============================] - 3s 2ms/step - loss: 0.0607 - acc: 0.9772 - val_loss: 0.3766 - val_acc: 0.9209\n",
      "Epoch 13/20\n",
      "1927/1927 [==============================] - 3s 2ms/step - loss: 0.0571 - acc: 0.9741 - val_loss: 0.3198 - val_acc: 0.9256\n",
      "Epoch 14/20\n",
      "1927/1927 [==============================] - 3s 2ms/step - loss: 0.0575 - acc: 0.9741 - val_loss: 0.4207 - val_acc: 0.9163\n",
      "Epoch 15/20\n",
      "1927/1927 [==============================] - 3s 2ms/step - loss: 0.0580 - acc: 0.9751 - val_loss: 0.4135 - val_acc: 0.9209\n",
      "Epoch 16/20\n",
      "1927/1927 [==============================] - 3s 2ms/step - loss: 0.0532 - acc: 0.9761 - val_loss: 0.3754 - val_acc: 0.9163\n",
      "Epoch 17/20\n",
      "1927/1927 [==============================] - 3s 2ms/step - loss: 0.0585 - acc: 0.9725 - val_loss: 0.4140 - val_acc: 0.9256\n",
      "Epoch 18/20\n",
      "1927/1927 [==============================] - 3s 2ms/step - loss: 0.0547 - acc: 0.9751 - val_loss: 0.3912 - val_acc: 0.9209\n",
      "Epoch 19/20\n",
      "1927/1927 [==============================] - 3s 2ms/step - loss: 0.0527 - acc: 0.9761 - val_loss: 0.4121 - val_acc: 0.9209\n",
      "Epoch 20/20\n",
      "1927/1927 [==============================] - 3s 2ms/step - loss: 0.0521 - acc: 0.9772 - val_loss: 0.4398 - val_acc: 0.9209\n"
     ]
    }
   ],
   "source": [
    "# THIS ONE HAS THE BEST\n",
    "\n",
    "X_train.shape\n",
    "\n",
    "model_dropout = Sequential([\n",
    "    Dense(1024, input_shape=(7420,), activation='relu'),\n",
    "    Dropout(.5),\n",
    "    Dense(1024, activation='relu'),\n",
    "    Dropout(.5),\n",
    "    Dense(1024, activation='relu'),\n",
    "    Dropout(.5),\n",
    "    Dense(1024, activation='relu'),\n",
    "    Dropout(.5),\n",
    "    Dense(1, activation='sigmoid'),\n",
    "])\n",
    "\n",
    "import keras_metrics\n",
    "model_dropout.compile(\"adam\", \"binary_crossentropy\", metrics=['accuracy'])\n",
    "history_dropout = model_dropout.fit(X_train, y, batch_size=128, epochs=20, verbose=1, validation_split=.1)"
   ]
  },
  {
   "cell_type": "code",
   "execution_count": 399,
   "metadata": {
    "collapsed": true
   },
   "outputs": [],
   "source": [
    "y_pred = model_dropout.predict(X_test)"
   ]
  },
  {
   "cell_type": "code",
   "execution_count": 427,
   "metadata": {
    "collapsed": true
   },
   "outputs": [],
   "source": [
    "for i in range(0, len(y_pred)):\n",
    "    if y_pred[i] < 0.5:\n",
    "        y_pred[i] =  False\n",
    "    else:\n",
    "        y_pred[i] = True"
   ]
  },
  {
   "cell_type": "code",
   "execution_count": 436,
   "metadata": {
    "collapsed": true
   },
   "outputs": [],
   "source": [
    "for i in range(0, 10):\n",
    "    if test['same_security'][i] == 1.0:\n",
    "        test['same_security'][i] = True\n",
    "    else:\n",
    "        test['same_security'][i] = False"
   ]
  },
  {
   "cell_type": "code",
   "execution_count": 440,
   "metadata": {
    "collapsed": true
   },
   "outputs": [],
   "source": [
    "test['same_security'].replace(0.0, False, inplace=True)"
   ]
  },
  {
   "cell_type": "code",
   "execution_count": 435,
   "metadata": {
    "collapsed": true
   },
   "outputs": [],
   "source": []
  },
  {
   "cell_type": "code",
   "execution_count": 445,
   "metadata": {
    "collapsed": true
   },
   "outputs": [],
   "source": [
    "test = test.applymap(lambda x: True if x == float(1) else x)\n",
    "test = test.applymap(lambda x: False if x == float(0) else x)"
   ]
  },
  {
   "cell_type": "code",
   "execution_count": 447,
   "metadata": {
    "collapsed": true
   },
   "outputs": [],
   "source": [
    "test.to_csv('submission_phase1_modelbehavior_team2.csv')"
   ]
  },
  {
   "cell_type": "code",
   "execution_count": null,
   "metadata": {
    "collapsed": true
   },
   "outputs": [],
   "source": []
  }
 ],
 "metadata": {
  "kernelspec": {
   "display_name": "Python 3",
   "language": "python",
   "name": "python3"
  },
  "language_info": {
   "codemirror_mode": {
    "name": "ipython",
    "version": 3
   },
   "file_extension": ".py",
   "mimetype": "text/x-python",
   "name": "python",
   "nbconvert_exporter": "python",
   "pygments_lexer": "ipython3",
   "version": "3.6.1"
  }
 },
 "nbformat": 4,
 "nbformat_minor": 2
}
